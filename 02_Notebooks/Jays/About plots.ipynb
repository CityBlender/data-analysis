{
 "cells": [
  {
   "cell_type": "markdown",
   "metadata": {},
   "source": [
    "# Import libs"
   ]
  },
  {
   "cell_type": "code",
   "execution_count": 2,
   "metadata": {},
   "outputs": [],
   "source": [
    "# Import some stuff\n",
    "import os\n",
    "from dotenv import load_dotenv\n",
    "from pathlib import Path\n",
    "from pymongo import MongoClient\n",
    "import matplotlib.pyplot as plt\n",
    "import pandas as pd\n",
    "import ast\n",
    "import datetime\n",
    "import seaborn as sns\n",
    "import json\n",
    "import numpy as np\n",
    "\n",
    "import matplotlib as mpl\n",
    "\n",
    "from datetime import datetime\n",
    "from dateutil.parser import parse\n",
    "import pandas as pd\n",
    "\n",
    "\n",
    "from pandas.io.json import json_normalize\n",
    "from PIL import Image\n",
    "from wordcloud import STOPWORDS, WordCloud\n",
    "\n",
    "# SET A SEED\n",
    "seed = 320\n",
    "\n",
    "\n",
    "# We will need this at some point....\n",
    "import geopandas as gp"
   ]
  },
  {
   "cell_type": "code",
   "execution_count": 3,
   "metadata": {},
   "outputs": [],
   "source": [
    "\n",
    "import folium\n",
    "from folium.plugins import HeatMap\n",
    "import matplotlib as mpl"
   ]
  },
  {
   "cell_type": "code",
   "execution_count": 4,
   "metadata": {},
   "outputs": [],
   "source": [
    "# specifies number of rows to show\n",
    "pd.set_option('display.max_rows', 300) \n",
    "\n",
    "# specifies default number format to 4 decimal places\n",
    "pd.options.display.float_format = '{:40,.4f}'.format \n",
    "\n",
    "# specifies that graphs should use ggplot styling\n",
    "plt.style.use('ggplot') \n",
    "\n",
    "%matplotlib inline"
   ]
  },
  {
   "cell_type": "code",
   "execution_count": 5,
   "metadata": {},
   "outputs": [],
   "source": [
    "# load .env variable\n",
    "base_dir = 'D:\\Documentos\\GitHub\\CityBlender'\n",
    "dotenv_file = os.path.join(base_dir, '.env')\n",
    "\n",
    "\n",
    "if os.path.isfile(dotenv_file):\n",
    "    load_dotenv(dotenv_file, verbose=True)\n",
    "    \n",
    "db_uri = os.getenv('DB_URI')"
   ]
  },
  {
   "cell_type": "code",
   "execution_count": 6,
   "metadata": {},
   "outputs": [
    {
     "data": {
      "text/plain": [
       "1.0"
      ]
     },
     "execution_count": 6,
     "metadata": {},
     "output_type": "execute_result"
    }
   ],
   "source": [
    "# create a new MongoDB Client\n",
    "db_client = MongoClient(str(db_uri))\n",
    "\n",
    "# If it's ok it should return a 1.0\n",
    "db_client.london.command(\"serverStatus\")['ok']"
   ]
  },
  {
   "cell_type": "code",
   "execution_count": 7,
   "metadata": {},
   "outputs": [],
   "source": [
    "# choose a database to connect to (.london)\n",
    "db_london = db_client.london\n",
    "\n",
    "# choose a collection\n",
    "db_london_events = db_london['events']\n",
    "db_london_artist = db_london['artists']"
   ]
  },
  {
   "cell_type": "code",
   "execution_count": 8,
   "metadata": {},
   "outputs": [
    {
     "data": {
      "text/plain": [
       "<pymongo.cursor.Cursor at 0x1b64a488c18>"
      ]
     },
     "execution_count": 8,
     "metadata": {},
     "output_type": "execute_result"
    }
   ],
   "source": [
    "# lookup all the documents in a collection\n",
    "db_london_events.find()"
   ]
  },
  {
   "cell_type": "markdown",
   "metadata": {},
   "source": [
    "## EOD"
   ]
  },
  {
   "cell_type": "code",
   "execution_count": 9,
   "metadata": {},
   "outputs": [],
   "source": [
    "events = pd.DataFrame(list(db_london_events.find({})))"
   ]
  },
  {
   "cell_type": "code",
   "execution_count": 10,
   "metadata": {},
   "outputs": [
    {
     "data": {
      "text/plain": [
       "Index(['_id', 'artists', 'date', 'datetime', 'datetime_source', 'foursquare',\n",
       "       'id', 'lastfm', 'location', 'name', 'popularity', 'spotify', 'time',\n",
       "       'type', 'url', 'venue'],\n",
       "      dtype='object')"
      ]
     },
     "execution_count": 10,
     "metadata": {},
     "output_type": "execute_result"
    }
   ],
   "source": [
    "events.columns"
   ]
  },
  {
   "cell_type": "markdown",
   "metadata": {},
   "source": [
    "### For instance in the first row there are 3 events"
   ]
  },
  {
   "cell_type": "code",
   "execution_count": 11,
   "metadata": {},
   "outputs": [],
   "source": [
    "# Put this in the date fomrat\n",
    "events['date'] = [(datetime.strptime(events['date'][x], '%Y-%m-%d')) for x in range(len(events['date']))]\n",
    "\n",
    "# Convert the dates into day name\n",
    "events['date_name'] = [(events['date'][x].strftime(\"%A\")) for x in range(len(events['date']))]\n",
    "\n",
    "# Lat & Long\n",
    "events['lat'] = [(events['location'][x]['lat']) for x in range(len(events['location']))]\n",
    "events['lng'] = [(events['location'][x]['lng']) for x in range(len(events['location']))]"
   ]
  },
  {
   "cell_type": "code",
   "execution_count": 12,
   "metadata": {},
   "outputs": [
    {
     "data": {
      "text/plain": [
       "<matplotlib.axes._subplots.AxesSubplot at 0x1b64a5f3278>"
      ]
     },
     "execution_count": 12,
     "metadata": {},
     "output_type": "execute_result"
    },
    {
     "data": {
      "image/png": "[encoded data removed]",
      "text/plain": [
       "<Figure size 432x288 with 1 Axes>"
      ]
     },
     "metadata": {},
     "output_type": "display_data"
    }
   ],
   "source": [
    "events.groupby('date_name').count()['_id'].plot()"
   ]
  },
  {
   "cell_type": "markdown",
   "metadata": {},
   "source": [
    "## Spotify"
   ]
  },
  {
   "cell_type": "code",
   "execution_count": 13,
   "metadata": {
    "scrolled": true
   },
   "outputs": [
    {
     "data": {
      "text/plain": [
       "dict"
      ]
     },
     "execution_count": 13,
     "metadata": {},
     "output_type": "execute_result"
    }
   ],
   "source": [
    "type(events['spotify'][0])"
   ]
  },
  {
   "cell_type": "code",
   "execution_count": 14,
   "metadata": {},
   "outputs": [
    {
     "data": {
      "text/plain": [
       "66"
      ]
     },
     "execution_count": 14,
     "metadata": {},
     "output_type": "execute_result"
    }
   ],
   "source": [
    "len(events['spotify'][0])"
   ]
  },
  {
   "cell_type": "code",
   "execution_count": 15,
   "metadata": {},
   "outputs": [
    {
     "name": "stdout",
     "output_type": "stream",
     "text": [
      "genres\n",
      "popularity\n",
      "popularity_median\n",
      "popularity_min\n",
      "popularity_max\n",
      "popularity_pvariance\n",
      "followers\n",
      "followers_sum\n",
      "danceability\n",
      "danceability_median\n",
      "danceability_min\n",
      "danceability_max\n",
      "danceability_pvariance\n",
      "energy\n",
      "energy_median\n",
      "energy_min\n",
      "energy_max\n",
      "enery_pvariance\n",
      "key\n",
      "key_mode\n",
      "key_min\n",
      "key_max\n",
      "loudness\n",
      "loudness_median\n",
      "loudness_min\n",
      "loudness_max\n",
      "loudness_pvariance\n",
      "mode\n",
      "mode_mode\n",
      "speechiness\n",
      "speechiness_median\n",
      "speechines_min\n",
      "speechines_max\n",
      "speechines_pvariance\n",
      "acousticness\n",
      "acousticness_median\n",
      "acousticness_min\n",
      "acousticness_max\n",
      "acousticness_pvariance\n",
      "instrumentalness\n",
      "instrumentalness_median\n",
      "instrumentalness_min\n",
      "instrumentalness_max\n",
      "instrumentalness_pvariance\n",
      "liveness\n",
      "liveness_median\n",
      "liveness_min\n",
      "liveness_max\n",
      "liveness_pvariance\n",
      "valence\n",
      "valence_median\n",
      "valence_min\n",
      "valence_max\n",
      "valence_pvariance\n",
      "tempo\n",
      "tempo_median\n",
      "tempo_min\n",
      "tempo_max\n",
      "tempo_pvariance\n",
      "duration_ms\n",
      "duration_ms_mean\n",
      "duration_ms_min\n",
      "duration_ms_max\n",
      "duration_ms_pvariance\n",
      "time_signature\n",
      "time_signature_mode\n"
     ]
    }
   ],
   "source": [
    "for key in events['spotify'][0]:\n",
    "  print(key)"
   ]
  },
  {
   "cell_type": "code",
   "execution_count": 16,
   "metadata": {},
   "outputs": [],
   "source": [
    "list1 = [\n",
    "    'popularity_pvariance',\n",
    "    'danceability_pvariance',\n",
    "    'enery_pvariance',\n",
    "    'speechines_pvariance',\n",
    "    'acousticness_pvariance',\n",
    "    'instrumentalness_pvariance',\n",
    "    'liveness_pvariance',\n",
    "    'valence_pvariance',\n",
    "    'duration_ms_pvariance',\n",
    "    'tempo_pvariance',]"
   ]
  },
  {
   "cell_type": "code",
   "execution_count": 17,
   "metadata": {},
   "outputs": [],
   "source": [
    "list_of_bars = [\n",
    "    'popularity_median',\n",
    "    'followers_sum',\n",
    "    'danceability_median',\n",
    "    'energy_median',\n",
    "    'key_mode',\n",
    "    'loudness_median',\n",
    "    'mode_mode',\n",
    "    'speechiness_median',\n",
    "    'acousticness_median',\n",
    "    'instrumentalness_median',\n",
    "    'liveness_median',\n",
    "    'valence_median',\n",
    "    'duration_ms_mean',\n",
    "    'time_signature_mode']"
   ]
  },
  {
   "cell_type": "code",
   "execution_count": 18,
   "metadata": {},
   "outputs": [],
   "source": [
    "def make_vars(db = events, dictionary = 'spotify', var = 'popularity_median'):\n",
    "    lista_nueva = []\n",
    "    # Make this for the desired variable\n",
    "    for i in range(len(db[dictionary])):\n",
    "        # If there is nothing in the spotify dictionary, make Nan value\n",
    "        if type(db[dictionary][i]) == float:\n",
    "            lista_nueva.append(np.nan)\n",
    "\n",
    "        else:\n",
    "            # print(db[dictionary][i][var])\n",
    "            lista_nueva.append(db[dictionary][i][var])\n",
    "            \n",
    "    # Integrate all the stuff\n",
    "    db[var] =   lista_nueva      \n"
   ]
  },
  {
   "cell_type": "code",
   "execution_count": 19,
   "metadata": {},
   "outputs": [],
   "source": [
    "for i in list_of_bars:\n",
    "    # print(i)\n",
    "    make_vars(db = events, dictionary = 'spotify', var = i)"
   ]
  },
  {
   "cell_type": "code",
   "execution_count": 20,
   "metadata": {},
   "outputs": [],
   "source": [
    "def make_boxes( db = events, var_x = \"date_name\", var_y = 'popularity_median'):\n",
    "    plt.rcParams['figure.figsize'] = 12, 8\n",
    "    axis_font = {'fontname':'Arial', 'size':'25'}\n",
    "\n",
    "    plt.rc('xtick', labelsize=15)    # fontsize of the tick labels\n",
    "    plt.rc('ytick', labelsize=15)    # fontsize of the tick labels\n",
    "\n",
    "\n",
    "    sns.boxplot(x=var_x, y = var_y, data=db)\n",
    "\n",
    "    plt.xlabel(var_x, **axis_font)\n",
    "    plt.ylabel(var_y, **axis_font)\n",
    "    "
   ]
  },
  {
   "cell_type": "markdown",
   "metadata": {},
   "source": [
    "# Plotly Stuff"
   ]
  },
  {
   "cell_type": "code",
   "execution_count": 21,
   "metadata": {},
   "outputs": [],
   "source": [
    "import plotly.plotly as py\n",
    "import plotly.graph_objs as go\n",
    "import plotly\n",
    "\n",
    "plotly.tools.set_credentials_file(username='cohenjota', api_key='I6zLnEN42oNTpZv36icg')"
   ]
  },
  {
   "cell_type": "code",
   "execution_count": 22,
   "metadata": {},
   "outputs": [
    {
     "data": {
      "text/plain": [
       "date_name\n",
       "Friday       301\n",
       "Monday       165\n",
       "Saturday     384\n",
       "Sunday       297\n",
       "Thursday     261\n",
       "Tuesday      213\n",
       "Wednesday    248\n",
       "Name: _id, dtype: int64"
      ]
     },
     "execution_count": 22,
     "metadata": {},
     "output_type": "execute_result"
    }
   ],
   "source": [
    "events.groupby('date_name').count()['_id']"
   ]
  },
  {
   "cell_type": "code",
   "execution_count": 23,
   "metadata": {},
   "outputs": [],
   "source": [
    "dates = pd.DataFrame(events['date'].unique())\n",
    "dates['d_name'] = events['date'].unique()\n",
    "dates = dates.drop(0, 1)"
   ]
  },
  {
   "cell_type": "code",
   "execution_count": 24,
   "metadata": {},
   "outputs": [
    {
     "data": {
      "text/plain": [
       "Index(['d_name'], dtype='object')"
      ]
     },
     "execution_count": 24,
     "metadata": {},
     "output_type": "execute_result"
    }
   ],
   "source": [
    "dates.columns"
   ]
  },
  {
   "cell_type": "code",
   "execution_count": 25,
   "metadata": {},
   "outputs": [],
   "source": [
    "dates['day'] = [(dates['d_name'][x].strftime(\"%A\")) for x in range(len(dates['d_name']))]\n"
   ]
  },
  {
   "cell_type": "code",
   "execution_count": 26,
   "metadata": {},
   "outputs": [],
   "source": [
    "db1 = dates.groupby('day').count()"
   ]
  },
  {
   "cell_type": "code",
   "execution_count": 27,
   "metadata": {},
   "outputs": [],
   "source": [
    "db1['events_q'] =events.groupby('date_name').count()['_id']"
   ]
  },
  {
   "cell_type": "code",
   "execution_count": 28,
   "metadata": {},
   "outputs": [],
   "source": [
    "db1['names'] = db1.index"
   ]
  },
  {
   "cell_type": "code",
   "execution_count": 29,
   "metadata": {},
   "outputs": [],
   "source": [
    "db1['AVG'] = db1['events_q']/db1['d_name']"
   ]
  },
  {
   "cell_type": "code",
   "execution_count": 30,
   "metadata": {
    "scrolled": true
   },
   "outputs": [
    {
     "data": {
      "text/html": [
       "<div>\n",
       "<style>\n",
       "    .dataframe thead tr:only-child th {\n",
       "        text-align: right;\n",
       "    }\n",
       "\n",
       "    .dataframe thead th {\n",
       "        text-align: left;\n",
       "    }\n",
       "\n",
       "    .dataframe tbody tr th {\n",
       "        vertical-align: top;\n",
       "    }\n",
       "</style>\n",
       "<table border=\"1\" class=\"dataframe\">\n",
       "  <thead>\n",
       "    <tr style=\"text-align: right;\">\n",
       "      <th></th>\n",
       "      <th>d_name</th>\n",
       "      <th>events_q</th>\n",
       "      <th>names</th>\n",
       "      <th>AVG</th>\n",
       "    </tr>\n",
       "    <tr>\n",
       "      <th>day</th>\n",
       "      <th></th>\n",
       "      <th></th>\n",
       "      <th></th>\n",
       "      <th></th>\n",
       "    </tr>\n",
       "  </thead>\n",
       "  <tbody>\n",
       "    <tr>\n",
       "      <th>Friday</th>\n",
       "      <td>3</td>\n",
       "      <td>301</td>\n",
       "      <td>Friday</td>\n",
       "      <td>100.3333</td>\n",
       "    </tr>\n",
       "    <tr>\n",
       "      <th>Monday</th>\n",
       "      <td>5</td>\n",
       "      <td>165</td>\n",
       "      <td>Monday</td>\n",
       "      <td>33.0000</td>\n",
       "    </tr>\n",
       "    <tr>\n",
       "      <th>Saturday</th>\n",
       "      <td>4</td>\n",
       "      <td>384</td>\n",
       "      <td>Saturday</td>\n",
       "      <td>96.0000</td>\n",
       "    </tr>\n",
       "    <tr>\n",
       "      <th>Sunday</th>\n",
       "      <td>5</td>\n",
       "      <td>297</td>\n",
       "      <td>Sunday</td>\n",
       "      <td>59.4000</td>\n",
       "    </tr>\n",
       "    <tr>\n",
       "      <th>Thursday</th>\n",
       "      <td>4</td>\n",
       "      <td>261</td>\n",
       "      <td>Thursday</td>\n",
       "      <td>65.2500</td>\n",
       "    </tr>\n",
       "    <tr>\n",
       "      <th>Tuesday</th>\n",
       "      <td>4</td>\n",
       "      <td>213</td>\n",
       "      <td>Tuesday</td>\n",
       "      <td>53.2500</td>\n",
       "    </tr>\n",
       "    <tr>\n",
       "      <th>Wednesday</th>\n",
       "      <td>4</td>\n",
       "      <td>248</td>\n",
       "      <td>Wednesday</td>\n",
       "      <td>62.0000</td>\n",
       "    </tr>\n",
       "  </tbody>\n",
       "</table>\n",
       "</div>"
      ],
      "text/plain": [
       "           d_name  events_q      names  \\\n",
       "day                                      \n",
       "Friday          3       301     Friday   \n",
       "Monday          5       165     Monday   \n",
       "Saturday        4       384   Saturday   \n",
       "Sunday          5       297     Sunday   \n",
       "Thursday        4       261   Thursday   \n",
       "Tuesday         4       213    Tuesday   \n",
       "Wednesday       4       248  Wednesday   \n",
       "\n",
       "                                               AVG  \n",
       "day                                                 \n",
       "Friday                                    100.3333  \n",
       "Monday                                     33.0000  \n",
       "Saturday                                   96.0000  \n",
       "Sunday                                     59.4000  \n",
       "Thursday                                   65.2500  \n",
       "Tuesday                                    53.2500  \n",
       "Wednesday                                  62.0000  "
      ]
     },
     "execution_count": 30,
     "metadata": {},
     "output_type": "execute_result"
    }
   ],
   "source": [
    "db1"
   ]
  },
  {
   "cell_type": "code",
   "execution_count": 34,
   "metadata": {
    "scrolled": true
   },
   "outputs": [
    {
     "data": {
      "text/html": [
       "<iframe id=\"igraph\" scrolling=\"no\" style=\"border:none;\" seamless=\"seamless\" src=\"https://plot.ly/~cohenjota/77.embed\" height=\"525px\" width=\"100%\"></iframe>"
      ],
      "text/plain": [
       "<plotly.tools.PlotlyDisplay object>"
      ]
     },
     "execution_count": 34,
     "metadata": {},
     "output_type": "execute_result"
    }
   ],
   "source": [
    "trace1 = go.Bar(\n",
    "    x=db1['names'][1],\n",
    "    y=db1['AVG'][1],\n",
    "    name=db1['names'][1],\n",
    "    marker=dict(\n",
    "        color='rgba(50, 171, 96, 0.7)',\n",
    "        line=dict(\n",
    "            color='rgba(50, 171, 96, 1.0)',\n",
    "            width=2,\n",
    "        )\n",
    "    )\n",
    ")\n",
    "\n",
    "trace2 = go.Bar(\n",
    "    x=db1['names'][5],\n",
    "    y=db1['AVG'][5],\n",
    "    name=db1['names'][5],\n",
    "    marker=dict(\n",
    "        color='rgba(50, 171, 96, 0.7)',\n",
    "        line=dict(\n",
    "            color='rgba(50, 171, 96, 1.0)',\n",
    "            width=2,\n",
    "        )\n",
    "    )\n",
    ")\n",
    "\n",
    "trace3 = go.Bar(\n",
    "    x=db1['names'][6],\n",
    "    y=db1['AVG'][6],\n",
    "    name=db1['names'][6],\n",
    "    marker=dict(\n",
    "        color='rgba(50, 171, 96, 0.7)',\n",
    "        line=dict(\n",
    "            color='rgba(50, 171, 96, 1.0)',\n",
    "            width=2,\n",
    "        )\n",
    "    )\n",
    ")\n",
    "\n",
    "trace4 = go.Bar(\n",
    "    x=db1['names'][4],\n",
    "    y=db1['AVG'][4],\n",
    "    name=db1['names'][4],\n",
    "    marker=dict(\n",
    "        color='rgba(50, 171, 96, 0.7)',\n",
    "        line=dict(\n",
    "            color='rgba(50, 171, 96, 1.0)',\n",
    "            width=2,\n",
    "        )\n",
    "    )\n",
    ")\n",
    "\n",
    "trace5 = go.Bar(\n",
    "    x=db1['names'][0],\n",
    "    y=db1['AVG'][0],\n",
    "    name=db1['names'][0],\n",
    "    marker=dict(\n",
    "        color='rgba(50, 171, 96, 0.7)',\n",
    "        line=dict(\n",
    "            color='rgba(50, 171, 96, 1.0)',\n",
    "            width=2,\n",
    "        )\n",
    "    )\n",
    ")\n",
    "\n",
    "trace6 = go.Bar(\n",
    "    x=db1['names'][2],\n",
    "    y=db1['AVG'][2],\n",
    "    name=db1['names'][2],\n",
    "    marker=dict(\n",
    "        color='rgba(50, 171, 96, 0.7)',\n",
    "        line=dict(\n",
    "            color='rgba(50, 171, 96, 1.0)',\n",
    "            width=2,\n",
    "        )\n",
    "    )\n",
    ")\n",
    "\n",
    "trace7 = go.Bar(\n",
    "    x=db1['names'][3],\n",
    "    y=db1['AVG'][3],\n",
    "    name=db1['names'][3],\n",
    "    marker=dict(\n",
    "        color='rgba(50, 171, 96, 0.7)',\n",
    "        line=dict(\n",
    "            color='rgba(50, 171, 96, 1.0)',\n",
    "            width=2,\n",
    "        )\n",
    "    )\n",
    ")\n",
    "\n",
    "data = [trace1,\n",
    "        trace2,\n",
    "        trace3,\n",
    "        trace4,\n",
    "        trace5,\n",
    "        trace6,\n",
    "        trace7,\n",
    "       ]\n",
    "\n",
    "layout = go.Layout(\n",
    "    title='Amount of Gigs per day of week', \n",
    "    showlegend=False\n",
    ")\n",
    "\n",
    "fig = go.Figure(data=data, layout=layout)\n",
    "py.iplot(fig, filename='gigy-bar')"
   ]
  },
  {
   "cell_type": "markdown",
   "metadata": {},
   "source": [
    "# Box plots"
   ]
  },
  {
   "cell_type": "code",
   "execution_count": null,
   "metadata": {},
   "outputs": [],
   "source": [
    "def make_boxes( db = events, var_x = \"date_name\", var_y = 'popularity_median'):\n",
    "    plt.rcParams['figure.figsize'] = 12, 8\n",
    "    axis_font = {'fontname':'Arial', 'size':'25'}\n",
    "\n",
    "    plt.rc('xtick', labelsize=15)    # fontsize of the tick labels\n",
    "    plt.rc('ytick', labelsize=15)    # fontsize of the tick labels\n",
    "\n",
    "\n",
    "    sns.boxplot(x=var_x, y = var_y, data=db)\n",
    "\n",
    "    plt.xlabel(var_x, **axis_font)\n",
    "    plt.ylabel(var_y, **axis_font)\n",
    "    "
   ]
  },
  {
   "cell_type": "code",
   "execution_count": null,
   "metadata": {},
   "outputs": [],
   "source": [
    "def plotly_box(var='popularity_median', tit ='Popularity of Gigs, by day'):\n",
    "    trace0 = go.Box(\n",
    "        y=events[events['date_name'] == db1['names'][1]][var], name=db1['names'][1])\n",
    "\n",
    "    trace1 = go.Box(\n",
    "        y=events[events['date_name'] == db1['names'][5]][var], name=db1['names'][5])\n",
    "\n",
    "    trace2 = go.Box(\n",
    "        y=events[events['date_name'] == db1['names'][6]][var], name=db1['names'][6])\n",
    "\n",
    "    trace3 = go.Box(\n",
    "        y=events[events['date_name'] == db1['names'][4]][var], name=db1['names'][4])\n",
    "\n",
    "    trace4 = go.Box(\n",
    "        y=events[events['date_name'] == db1['names'][2]][var], name=db1['names'][2])\n",
    "\n",
    "    trace5 = go.Box(\n",
    "        y=events[events['date_name'] == db1['names'][0]][var], name=db1['names'][0])\n",
    "    \n",
    "    trace6 = go.Box(\n",
    "        y=events[events['date_name'] == db1['names'][3]][var], name=db1['names'][3])\n",
    "                                                                                   \n",
    "    layout = go.Layout(\n",
    "        title=tit,\n",
    "        showlegend=False\n",
    "    )\n",
    "    \n",
    "    data = [trace0, trace1, trace2, trace3, trace4, trace5, trace6 ]\n",
    "\n",
    "    fig = go.Figure(data=data, layout=layout)\n",
    "    return(fig)"
   ]
  },
  {
   "cell_type": "code",
   "execution_count": null,
   "metadata": {
    "scrolled": true
   },
   "outputs": [],
   "source": [
    "fig = plotly_box(var='popularity_median', tit ='Popularity of Gigs, by day')\n",
    "py.iplot(fig, filename='popularity_median')"
   ]
  },
  {
   "cell_type": "code",
   "execution_count": null,
   "metadata": {},
   "outputs": [],
   "source": [
    "list_of_bars"
   ]
  },
  {
   "cell_type": "code",
   "execution_count": null,
   "metadata": {},
   "outputs": [],
   "source": [
    "fig = plotly_box(var='followers_sum', tit ='Sum Followers of Gigs, by day')\n",
    "py.iplot(fig, filename='followers_sum')"
   ]
  },
  {
   "cell_type": "code",
   "execution_count": null,
   "metadata": {},
   "outputs": [],
   "source": [
    "fig = plotly_box(var='danceability_median', tit ='Danceability of Gigs, by day')\n",
    "py.iplot(fig, filename='danceability')"
   ]
  },
  {
   "cell_type": "code",
   "execution_count": null,
   "metadata": {},
   "outputs": [],
   "source": [
    "fig = plotly_box(var='energy_median', tit ='Energy of Gigs, by day')\n",
    "py.iplot(fig, filename='energy')"
   ]
  },
  {
   "cell_type": "code",
   "execution_count": null,
   "metadata": {},
   "outputs": [],
   "source": [
    "fig = plotly_box(var='loudness_median', tit ='Loudness of Gigs, by day')\n",
    "py.iplot(fig, filename='loudness')"
   ]
  },
  {
   "cell_type": "code",
   "execution_count": null,
   "metadata": {},
   "outputs": [],
   "source": [
    "fig = plotly_box(var='speechiness_median', tit ='Speechiness of Gigs, by day')\n",
    "py.iplot(fig, filename='speechiness')"
   ]
  },
  {
   "cell_type": "code",
   "execution_count": null,
   "metadata": {},
   "outputs": [],
   "source": [
    "fig = plotly_box(var='acousticness_median', tit ='Acousticness of Gigs, by day')\n",
    "py.iplot(fig, filename='acousticness')"
   ]
  },
  {
   "cell_type": "code",
   "execution_count": null,
   "metadata": {},
   "outputs": [],
   "source": [
    "fig = plotly_box(var='instrumentalness_median', tit ='Instrumentalness of Gigs, by day')\n",
    "py.iplot(fig, filename='instrumentalness')"
   ]
  },
  {
   "cell_type": "code",
   "execution_count": null,
   "metadata": {},
   "outputs": [],
   "source": [
    "fig = plotly_box(var='liveness_median', tit ='Liveness of Gigs, by day')\n",
    "py.iplot(fig, filename='liveness')"
   ]
  },
  {
   "cell_type": "code",
   "execution_count": null,
   "metadata": {},
   "outputs": [],
   "source": []
  },
  {
   "cell_type": "code",
   "execution_count": null,
   "metadata": {},
   "outputs": [],
   "source": []
  },
  {
   "cell_type": "code",
   "execution_count": null,
   "metadata": {},
   "outputs": [],
   "source": []
  },
  {
   "cell_type": "code",
   "execution_count": null,
   "metadata": {},
   "outputs": [],
   "source": []
  },
  {
   "cell_type": "code",
   "execution_count": null,
   "metadata": {},
   "outputs": [],
   "source": []
  },
  {
   "cell_type": "code",
   "execution_count": null,
   "metadata": {},
   "outputs": [],
   "source": []
  },
  {
   "cell_type": "code",
   "execution_count": null,
   "metadata": {},
   "outputs": [],
   "source": [
    "def plot_a_scatter(db = events, x = 'tempo_median', y = 'acousticness_median'):\n",
    "\n",
    "    for_plot = pd.DataFrame()\n",
    "    list_of_x = []\n",
    "    list_of_y = []\n",
    "    \n",
    "    for i in range(len(db['spotify'])):\n",
    "        if type(db['spotify'][i]) != float:\n",
    "            list_of_x.extend(db['spotify'][i][x])\n",
    "\n",
    "    for i in range(len(db['spotify'])):\n",
    "        if type(db['spotify'][i]) != float:\n",
    "            list_of_y.extend(db['spotify'][i][y])\n",
    "            \n",
    "    for_plot[x] = list_of_x\n",
    "    for_plot[y] = list_of_y\n",
    "    \n",
    "    plt.rcParams['figure.figsize'] = 30, 20\n",
    "    plt.scatter(for_plot[x], for_plot[y])"
   ]
  },
  {
   "cell_type": "code",
   "execution_count": null,
   "metadata": {},
   "outputs": [],
   "source": [
    "plot_a_scatter(db = events, x = 'danceability', y = 'energy')"
   ]
  },
  {
   "cell_type": "markdown",
   "metadata": {},
   "source": [
    "## Genere - What to do with missing values"
   ]
  },
  {
   "cell_type": "code",
   "execution_count": null,
   "metadata": {},
   "outputs": [],
   "source": [
    "def lista_generos(db = events, lib = 'spotify', var = 'genres'):\n",
    "    list_of_strings = []\n",
    "\n",
    "    for i in range(len(db[lib])):\n",
    "        if type(db[lib][i]) != float:\n",
    "            list_of_strings.extend(db[lib][i][var])\n",
    "            \n",
    "    return(list_of_strings)    \n"
   ]
  },
  {
   "cell_type": "code",
   "execution_count": null,
   "metadata": {},
   "outputs": [],
   "source": [
    "list_of_generes = lista_generos(db = events, lib = 'spotify', var = 'genres')"
   ]
  },
  {
   "cell_type": "code",
   "execution_count": null,
   "metadata": {},
   "outputs": [],
   "source": [
    "events['spotify'][2]['genres']"
   ]
  },
  {
   "cell_type": "markdown",
   "metadata": {},
   "source": [
    "## Word cloud"
   ]
  },
  {
   "cell_type": "code",
   "execution_count": null,
   "metadata": {},
   "outputs": [],
   "source": [
    "len(list_of_generes)"
   ]
  },
  {
   "cell_type": "code",
   "execution_count": null,
   "metadata": {},
   "outputs": [],
   "source": [
    "words = list_of_generes"
   ]
  },
  {
   "cell_type": "markdown",
   "metadata": {},
   "source": [
    "### For some reason this code stop working.... something wrong with pillow module"
   ]
  },
  {
   "cell_type": "code",
   "execution_count": null,
   "metadata": {},
   "outputs": [],
   "source": [
    "def make_a_Wcloud(lista = list_of_generes, mask = \"London_mask2.png\", n_words=200):\n",
    "    london_mask = np.array(Image.open(mask))\n",
    "    stopwords = set(STOPWORDS)\n",
    "    data = lista\n",
    "\n",
    "    wordcloud = WordCloud(width=600, height=200,\n",
    "                              background_color='black',\n",
    "                              stopwords=stopwords,\n",
    "                              max_words=n_words,\n",
    "                              max_font_size=80,\n",
    "                              mask=london_mask,\n",
    "                              random_state=42\n",
    "                             ).generate(str((data)))\n",
    "\n",
    "\n",
    "\n",
    "    plt.figure( figsize=(20,10), facecolor='k')\n",
    "    plt.imshow(wordcloud, interpolation=\"bilinear\")\n",
    "    plt.axis(\"off\")\n",
    "    plt.show()"
   ]
  },
  {
   "cell_type": "code",
   "execution_count": null,
   "metadata": {
    "scrolled": false
   },
   "outputs": [],
   "source": [
    "make_a_Wcloud(n_words = 100)"
   ]
  },
  {
   "cell_type": "code",
   "execution_count": null,
   "metadata": {},
   "outputs": [],
   "source": [
    "make_a_Wcloud(n_words = 50)"
   ]
  },
  {
   "cell_type": "code",
   "execution_count": null,
   "metadata": {},
   "outputs": [],
   "source": [
    "make_a_Wcloud(n_words = 200)"
   ]
  },
  {
   "cell_type": "code",
   "execution_count": null,
   "metadata": {},
   "outputs": [],
   "source": [
    "make_a_Wcloud(n_words = 350)"
   ]
  },
  {
   "cell_type": "code",
   "execution_count": null,
   "metadata": {
    "scrolled": true
   },
   "outputs": [],
   "source": [
    "pd.Series(words).value_counts().plot('bar')"
   ]
  },
  {
   "cell_type": "markdown",
   "metadata": {},
   "source": [
    "## Spotify vars"
   ]
  },
  {
   "cell_type": "code",
   "execution_count": null,
   "metadata": {},
   "outputs": [],
   "source": [
    "def plot_distributions(db = events, var = 'acousticness_median'):\n",
    "    list_of_var = []\n",
    "\n",
    "    for i in range(len(db['spotify'])):\n",
    "        if type(db['spotify'][i]) != float:\n",
    "            list_of_var.append(db['spotify'][i][var])\n",
    "    \n",
    "    \n",
    "    plt.hist(list_of_var)"
   ]
  },
  {
   "cell_type": "code",
   "execution_count": null,
   "metadata": {},
   "outputs": [],
   "source": [
    "plot_distributions(events, var = 'tempo_min')"
   ]
  },
  {
   "cell_type": "code",
   "execution_count": null,
   "metadata": {},
   "outputs": [],
   "source": [
    "list_of_acousticness = []\n",
    "\n",
    "for i in range(len(events['spotify'])):\n",
    "    if type(events['spotify'][i]) != float:\n",
    "        list_of_acousticness.append(events['spotify'][i]['acousticness_median'])\n",
    "    "
   ]
  },
  {
   "cell_type": "code",
   "execution_count": null,
   "metadata": {},
   "outputs": [],
   "source": [
    "plt.hist(list_of_acousticness)"
   ]
  },
  {
   "cell_type": "code",
   "execution_count": null,
   "metadata": {},
   "outputs": [],
   "source": [
    "list_of_tempo = []\n",
    "list_of_dance =[]\n",
    "\n",
    "db = events\n",
    "\n",
    "for i in range(len(db['spotify'])):\n",
    "        if type(db['spotify'][i]) != float:\n",
    "            list_of_tempo.append(db['spotify'][i]['energy_median'])\n",
    "            \n",
    "for i in range(len(db['spotify'])):\n",
    "        if type(db['spotify'][i]) != float:\n",
    "            list_of_dance.append(db['spotify'][i]['popularity_median'])            "
   ]
  },
  {
   "cell_type": "code",
   "execution_count": null,
   "metadata": {},
   "outputs": [],
   "source": [
    "plt.scatter(list_of_tempo, list_of_dance)\n",
    "\n",
    "\n",
    "plt.tick_params(labelsize=28)"
   ]
  },
  {
   "cell_type": "markdown",
   "metadata": {},
   "source": [
    "## Last.fm"
   ]
  },
  {
   "cell_type": "code",
   "execution_count": null,
   "metadata": {},
   "outputs": [],
   "source": [
    "events['lastfm'][0]"
   ]
  },
  {
   "cell_type": "code",
   "execution_count": null,
   "metadata": {},
   "outputs": [],
   "source": [
    "last_fm_list = ['listeners_sum',\n",
    "               'playcount_sum']"
   ]
  },
  {
   "cell_type": "code",
   "execution_count": null,
   "metadata": {},
   "outputs": [],
   "source": [
    "for i in last_fm_list:\n",
    "    # print(i)\n",
    "    make_vars(db = events, dictionary = 'lastfm', var = i)"
   ]
  },
  {
   "cell_type": "code",
   "execution_count": null,
   "metadata": {},
   "outputs": [],
   "source": [
    "plt.scatter(db['playcount_sum'], db['listeners_sum'])\n",
    "plt.ylim(0,400000)\n",
    "plt.xlim(0,5000000)"
   ]
  },
  {
   "cell_type": "code",
   "execution_count": null,
   "metadata": {},
   "outputs": [],
   "source": [
    "make_boxes(var_y = 'playcount_sum')\n",
    "plt.ylim(0,750000)"
   ]
  },
  {
   "cell_type": "code",
   "execution_count": null,
   "metadata": {},
   "outputs": [],
   "source": [
    "make_boxes(var_y = 'listeners_sum')\n",
    "plt.ylim(0,100000)"
   ]
  },
  {
   "cell_type": "code",
   "execution_count": null,
   "metadata": {},
   "outputs": [],
   "source": [
    "list_of_last_fm_gener = lista_generos(db = events, lib = 'lastfm', var = 'tags')\n",
    "\n",
    "make_a_Wcloud(lista = list_of_last_fm_gener, mask = \"London_mask2.png\", n_words = 500)"
   ]
  },
  {
   "cell_type": "code",
   "execution_count": null,
   "metadata": {},
   "outputs": [],
   "source": [
    "make_a_Wcloud(lista = list_of_last_fm_gener, mask = \"London_mask2.png\", n_words = 250)"
   ]
  },
  {
   "cell_type": "code",
   "execution_count": null,
   "metadata": {},
   "outputs": [],
   "source": [
    "for keys in events['foursquare'][23]:\n",
    "    print(keys)"
   ]
  },
  {
   "cell_type": "code",
   "execution_count": null,
   "metadata": {},
   "outputs": [],
   "source": [
    "events['foursquare'][23]\n"
   ]
  },
  {
   "cell_type": "code",
   "execution_count": null,
   "metadata": {},
   "outputs": [],
   "source": [
    "lista_nueva = []\n",
    "# Make this for the desired variable\n",
    "for i in range(len(events['foursquare'])):\n",
    "\n",
    "    # If there is nothing in the spotify dictionary, make Nan value\n",
    "    if type(events['foursquare'][i]) == float:\n",
    "        lista_nueva.append(np.nan)\n",
    "\n",
    "    else:\n",
    "        try:\n",
    "            #print(db['foursquare'][i]['price']['tier'])\n",
    "            lista_nueva.append(events['foursquare'][i]['price']['tier'])\n",
    "\n",
    "        except:\n",
    "            lista_nueva.append(np.nan)\n",
    "\n",
    "\n",
    "# Integrate all the stuff\n",
    "events['tier_price'] =   lista_nueva"
   ]
  },
  {
   "cell_type": "code",
   "execution_count": null,
   "metadata": {},
   "outputs": [],
   "source": [
    "def make_vars_1(db = events, dictionary = 'spotify', var = 'popularity_median'):\n",
    "    lista_nueva = []\n",
    "    # Make this for the desired variable\n",
    "    for i in range(len(db[dictionary])):\n",
    "        \n",
    "        # If there is nothing in the spotify dictionary, make Nan value\n",
    "        if type(db[dictionary][i]) == float:\n",
    "            lista_nueva.append(np.nan)\n",
    "\n",
    "        else:\n",
    "            try:\n",
    "                #print(db[dictionary][i][var])\n",
    "                lista_nueva.append(db[dictionary][i][var])\n",
    "                \n",
    "            except:\n",
    "                lista_nueva.append(np.nan)\n",
    "                \n",
    "            \n",
    "    # Integrate all the stuff\n",
    "    db[var] =   lista_nueva      \n"
   ]
  },
  {
   "cell_type": "code",
   "execution_count": null,
   "metadata": {},
   "outputs": [],
   "source": [
    "list_of_4sqrs_vars = ['likes', 'rating']"
   ]
  },
  {
   "cell_type": "code",
   "execution_count": null,
   "metadata": {},
   "outputs": [],
   "source": [
    "for i in list_of_4sqrs_vars:\n",
    "    # print(i)\n",
    "    make_vars_1(db = events, dictionary = 'foursquare', var = i)"
   ]
  },
  {
   "cell_type": "code",
   "execution_count": null,
   "metadata": {},
   "outputs": [],
   "source": [
    "for i in list_of_bars:\n",
    "    # print(i)\n",
    "    make_vars(db = events, dictionary = 'spotify', var = i)"
   ]
  },
  {
   "cell_type": "code",
   "execution_count": null,
   "metadata": {},
   "outputs": [],
   "source": [
    "len(events)"
   ]
  },
  {
   "cell_type": "code",
   "execution_count": null,
   "metadata": {},
   "outputs": [],
   "source": [
    "len(events['foursquare'])"
   ]
  },
  {
   "cell_type": "code",
   "execution_count": null,
   "metadata": {},
   "outputs": [],
   "source": [
    "events['foursquare'][0]['description']"
   ]
  },
  {
   "cell_type": "code",
   "execution_count": null,
   "metadata": {},
   "outputs": [],
   "source": [
    "def lista_generos_2(db = events, lib = 'spotify', var = 'genres'):\n",
    "    list_of_strings = []\n",
    "\n",
    "    for i in range(len(db[lib])):\n",
    "        #print(i)\n",
    "        try:\n",
    "            list_of_strings.append(db[lib][i][var])\n",
    "            \n",
    "        except: \n",
    "            pass\n",
    "            \n",
    "    return(list_of_strings)    \n"
   ]
  },
  {
   "cell_type": "code",
   "execution_count": null,
   "metadata": {},
   "outputs": [],
   "source": [
    "list_of_4sq_descr = lista_generos_2(db = events, lib = 'foursquare', var = 'description')\n",
    "\n",
    "make_a_Wcloud(lista = list_of_4sq_descr, mask = \"London_mask2.png\", n_words = 200)"
   ]
  },
  {
   "cell_type": "code",
   "execution_count": null,
   "metadata": {},
   "outputs": [],
   "source": [
    "make_a_Wcloud(lista = list_of_4sq_descr, mask = \"London_mask2.png\", n_words = 80)"
   ]
  },
  {
   "cell_type": "code",
   "execution_count": null,
   "metadata": {
    "scrolled": true
   },
   "outputs": [],
   "source": [
    "make_boxes(var_y = 'tier_price')\n",
    "plt.ylim(0,4)"
   ]
  },
  {
   "cell_type": "code",
   "execution_count": null,
   "metadata": {},
   "outputs": [],
   "source": [
    "colors = {'Monday':'yellow', \n",
    "          'Tuesday':'orange', \n",
    "          'Wednesday':'red', \n",
    "          'Thursday':'brown', \n",
    "          'Friday': 'grey' ,\n",
    "          'Saturday': 'blue' , \n",
    "          'Sunday' : 'black' }\n",
    "\n",
    "fig, ax = plt.subplots()\n",
    "ax.scatter(db['rating'], db['likes'], c=db['date_name'].apply(lambda x: colors[x]))\n",
    "\n",
    "plt.ylim(0,500)\n",
    "plt.xlim(4,10)\n",
    "plt.show()"
   ]
  },
  {
   "cell_type": "code",
   "execution_count": null,
   "metadata": {},
   "outputs": [],
   "source": [
    "plt.scatter(db['rating'], db['likes'])\n",
    "plt.ylim(0,500)\n",
    "plt.xlim(4,10)"
   ]
  },
  {
   "cell_type": "markdown",
   "metadata": {},
   "source": [
    "## City Level"
   ]
  },
  {
   "cell_type": "code",
   "execution_count": null,
   "metadata": {},
   "outputs": [],
   "source": [
    "df_no_nulls['name']"
   ]
  },
  {
   "cell_type": "code",
   "execution_count": null,
   "metadata": {},
   "outputs": [],
   "source": [
    "# Get rid of the Nan\n",
    "df_no_nulls = events[events['lat'].notnull()]\n",
    "df_no_nulls = df_no_nulls.reset_index()"
   ]
  },
  {
   "cell_type": "code",
   "execution_count": null,
   "metadata": {},
   "outputs": [],
   "source": [
    "locations = df_no_nulls[['lat', 'lng']]\n",
    "locationlist = locations.values.tolist()"
   ]
  },
  {
   "cell_type": "code",
   "execution_count": null,
   "metadata": {},
   "outputs": [],
   "source": [
    "locationlist[1]"
   ]
  },
  {
   "cell_type": "code",
   "execution_count": null,
   "metadata": {},
   "outputs": [],
   "source": [
    "map = folium.Map(location = [51.5, -0.1],\n",
    "                 tiles= 'stamenwatercolor',\n",
    "                 zoom_start=10)\n",
    "\n",
    "for point in range(0, len(locationlist)):\n",
    "    folium.CircleMarker(locationlist[point], radius=3, \n",
    "                        fill = True,\n",
    "                        fill_color='black',\n",
    "                        line_color='black',\n",
    "                        color = 'black',\n",
    "                        fill_opacity=0.7).add_to(map)\n",
    "    \n",
    "HeatMap(locationlist).add_to(map)"
   ]
  },
  {
   "cell_type": "code",
   "execution_count": null,
   "metadata": {
    "scrolled": true
   },
   "outputs": [],
   "source": [
    "map"
   ]
  },
  {
   "cell_type": "code",
   "execution_count": null,
   "metadata": {},
   "outputs": [],
   "source": [
    "map.save('heatmap of gigs.html') #save HTML"
   ]
  },
  {
   "cell_type": "markdown",
   "metadata": {},
   "source": [
    "## Bourogh Level"
   ]
  },
  {
   "cell_type": "code",
   "execution_count": null,
   "metadata": {},
   "outputs": [],
   "source": []
  },
  {
   "cell_type": "code",
   "execution_count": null,
   "metadata": {},
   "outputs": [],
   "source": []
  },
  {
   "cell_type": "code",
   "execution_count": null,
   "metadata": {},
   "outputs": [],
   "source": []
  },
  {
   "cell_type": "markdown",
   "metadata": {},
   "source": [
    "## Gigs data"
   ]
  },
  {
   "cell_type": "code",
   "execution_count": null,
   "metadata": {},
   "outputs": [],
   "source": []
  }
 ],
 "metadata": {
  "kernelspec": {
   "display_name": "Python 3",
   "language": "python",
   "name": "python3"
  },
  "language_info": {
   "codemirror_mode": {
    "name": "ipython",
    "version": 3
   },
   "file_extension": ".py",
   "mimetype": "text/x-python",
   "name": "python",
   "nbconvert_exporter": "python",
   "pygments_lexer": "ipython3",
   "version": "3.6.4"
  }
 },
 "nbformat": 4,
 "nbformat_minor": 2
}
