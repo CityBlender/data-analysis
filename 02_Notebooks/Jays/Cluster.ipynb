{
 "cells": [
  {
   "cell_type": "markdown",
   "metadata": {},
   "source": [
    "alfie pymongo use"
   ]
  },
  {
   "cell_type": "code",
   "execution_count": null,
   "metadata": {},
   "outputs": [],
   "source": [
    "import os\n",
    "from dotenv import load_dotenv\n",
    "from pathlib import Path\n",
    "from pymongo import MongoClient\n",
    "import matplotlib.pyplot as plt\n",
    "import pandas as pd\n",
    "import ast\n",
    "import datetime\n",
    "import seaborn as sns\n",
    "import json\n",
    "import numpy as np\n",
    "\n",
    "import matplotlib as mpl\n",
    "\n",
    "from datetime import datetime\n",
    "from dateutil.parser import parse\n",
    "\n",
    "#need to translate from wgs to bng to do spatial clustering\n",
    "import pyproj\n",
    "\n",
    "from pandas.io.json import json_normalize\n",
    "\n",
    "#now to try out the clustering with this new data set\n",
    "#now import DBSCAN clustering package\n",
    "from sklearn.cluster import DBSCAN"
   ]
  },
  {
   "cell_type": "code",
   "execution_count": null,
   "metadata": {},
   "outputs": [],
   "source": [
    "# specifies number of rows to show\n",
    "pd.set_option('display.max_rows', 300) \n",
    "\n",
    "# specifies default number format to 4 decimal places\n",
    "pd.options.display.float_format = '{:40,.4f}'.format \n",
    "\n",
    "# specifies that graphs should use ggplot styling\n",
    "plt.style.use('ggplot') \n",
    "\n",
    "%matplotlib inline"
   ]
  },
  {
   "cell_type": "markdown",
   "metadata": {},
   "source": [
    "## Some setups"
   ]
  },
  {
   "cell_type": "code",
   "execution_count": null,
   "metadata": {},
   "outputs": [],
   "source": [
    "pd.set_option('display.max_rows', 300) # specifies number of rows to show\n",
    "pd.options.display.float_format = '{:40,.4f}'.format # specifies default number format to 4 decimal places\n",
    "%matplotlib inline"
   ]
  },
  {
   "cell_type": "code",
   "execution_count": null,
   "metadata": {},
   "outputs": [],
   "source": [
    "from astropy.stats import RipleysKEstimator"
   ]
  },
  {
   "cell_type": "code",
   "execution_count": null,
   "metadata": {},
   "outputs": [],
   "source": [
    "# load .env variable\n",
    "# base_dir = 'D:\\Documentos\\GitHub\\CityBlender'\n",
    "# dotenv_file = os.path.join(base_dir, '.env')\n",
    "\n",
    "base_dir = 'C:/Users/Alfie/Documents/MSc Smart Cities/Term 2/Spatial Data Capture Storage and Analysis/Coursework/Analysis Test/'\n",
    "dotenv_file = os.path.join(base_dir, '.env')\n",
    "\n",
    "\n",
    "# Continue loading stuff\n",
    "\n",
    "if os.path.isfile(dotenv_file):\n",
    "    load_dotenv(dotenv_file, verbose=True)\n",
    "    \n",
    "db_uri = os.getenv('DB_URI')\n",
    "\n",
    "db_client = MongoClient(str(db_uri))\n",
    "\n",
    "\n",
    "# choose a database to connect to (.london)\n",
    "db_london = db_client.london\n",
    "status = db_client.london.command('serverStatus')\n",
    "\n",
    "\n",
    "# create the connections and build the local datasets\n",
    "db_london_events = db_london['events']\n",
    "db_london_artist = db_london['artists']\n",
    "\n",
    "allLondonEvents = db_london_events.find()\n",
    "\n",
    "londonEventsdf = pd.DataFrame(list(allLondonEvents))"
   ]
  },
  {
   "cell_type": "markdown",
   "metadata": {},
   "source": [
    "# Some processing"
   ]
  },
  {
   "cell_type": "code",
   "execution_count": null,
   "metadata": {},
   "outputs": [],
   "source": [
    "# Put this in the date format\n",
    "londonEventsdf['date'] = [(datetime.strptime(londonEventsdf['date'][x], '%Y-%m-%d')) for x in range(len(londonEventsdf['date']))]\n",
    "\n",
    "# Convert the dates into day name\n",
    "londonEventsdf['date_name'] = [(londonEventsdf['date'][x].strftime(\"%A\")) for x in range(len(londonEventsdf['date']))]\n",
    "\n",
    "# Lat & Long\n",
    "londonEventsdf['lat'] = [(londonEventsdf['location'][x]['lat']) for x in range(len(londonEventsdf['location']))]\n",
    "londonEventsdf['lng'] = [(londonEventsdf['location'][x]['lng']) for x in range(len(londonEventsdf['location']))]"
   ]
  },
  {
   "cell_type": "markdown",
   "metadata": {},
   "source": [
    "# Dates in the dataset"
   ]
  },
  {
   "cell_type": "code",
   "execution_count": null,
   "metadata": {},
   "outputs": [],
   "source": [
    "#get min and max date of this dataset\n",
    "print(min(londonEventsdf['date']))\n",
    "print(max((londonEventsdf['date'])))"
   ]
  },
  {
   "cell_type": "code",
   "execution_count": null,
   "metadata": {},
   "outputs": [],
   "source": [
    "# Define some common projections using EPSG codes\n",
    "wgs84=pyproj.Proj(\"+init=EPSG:4326\") # LatLon with WGS84 datum used by GPS units and Google Earth\n",
    "osgb36=pyproj.Proj(\"+init=EPSG:27700\") # UK Ordnance Survey, 1936 datum"
   ]
  },
  {
   "cell_type": "code",
   "execution_count": null,
   "metadata": {
    "scrolled": true
   },
   "outputs": [],
   "source": [
    "#create a new pd without NaNs\n",
    "londonEventsdfNoNan = londonEventsdf[londonEventsdf['lat'].notnull()]\n",
    "\n",
    "#make new columns for the new latlng\n",
    "londonEventsdfNoNan['BNGnorthing'] = \"\"\n",
    "londonEventsdfNoNan['BNGeasting'] = \"\"\n",
    "\n",
    "\n",
    "londonEventsdfNoNan = londonEventsdfNoNan.reset_index()"
   ]
  },
  {
   "cell_type": "code",
   "execution_count": null,
   "metadata": {},
   "outputs": [],
   "source": [
    "#now run through the dataset and transform those coordinates\n",
    "origLat = []\n",
    "origLng = []\n",
    "\n",
    "for i in londonEventsdfNoNan['index']:\n",
    "    # print(i)\n",
    "    try:\n",
    "        origLat.append(londonEventsdfNoNan['lat'][i])\n",
    "        origLng.append(londonEventsdfNoNan['lng'][i])\n",
    "        \n",
    "    except:\n",
    "        origLat.append(np.nan)\n",
    "        origLng.append(np.nan)"
   ]
  },
  {
   "cell_type": "code",
   "execution_count": null,
   "metadata": {},
   "outputs": [],
   "source": [
    "lat,lon = pyproj.transform(wgs84,osgb36,origLat,origLng)\n",
    "    \n",
    "londonEventsdfNoNan['BNGnorthing'] = lat\n",
    "londonEventsdfNoNan['BNGeasting'] = lon"
   ]
  },
  {
   "cell_type": "code",
   "execution_count": null,
   "metadata": {},
   "outputs": [],
   "source": [
    "londonEventsdfNoNan"
   ]
  },
  {
   "cell_type": "code",
   "execution_count": null,
   "metadata": {},
   "outputs": [],
   "source": [
    "londonEventsdfNoNan['BNGnorthing'] = pd.to_numeric(londonEventsdfNoNan['BNGnorthing'])\n",
    "londonEventsdfNoNan['BNGeasting'] = pd.to_numeric(londonEventsdfNoNan['BNGeasting'])"
   ]
  },
  {
   "cell_type": "code",
   "execution_count": null,
   "metadata": {
    "scrolled": true
   },
   "outputs": [],
   "source": [
    "minLatLdn = min(londonEventsdfNoNan['BNGnorthing'])\n",
    "minLngLdn = min(londonEventsdfNoNan['BNGeasting'])\n",
    "maxLatLdn = max(londonEventsdfNoNan['BNGnorthing'])\n",
    "maxLngLdn = max(londonEventsdfNoNan['BNGeasting'])"
   ]
  },
  {
   "cell_type": "code",
   "execution_count": null,
   "metadata": {},
   "outputs": [],
   "source": [
    "londonEventsdfNoNan = londonEventsdfNoNan[londonEventsdfNoNan['BNGnorthing'].notnull()]"
   ]
  },
  {
   "cell_type": "code",
   "execution_count": null,
   "metadata": {},
   "outputs": [],
   "source": [
    "londonEventsdfNoNan = londonEventsdfNoNan.reset_index()"
   ]
  },
  {
   "cell_type": "code",
   "execution_count": null,
   "metadata": {},
   "outputs": [],
   "source": [
    "# Make a function to subset the genere depending on which dataset\n",
    "def subset_by_genere(db = londonEventsdfNoNan, lib = 'spotify', words = 'reggae'):\n",
    "    return db[db[lib].astype(str).str.contains(words, case=False)]"
   ]
  },
  {
   "cell_type": "code",
   "execution_count": null,
   "metadata": {},
   "outputs": [],
   "source": [
    "reggaeEventsdf = subset_by_genere()\n",
    "\n",
    "reggaeEventsdf2 = subset_by_genere(lib = 'lastfm')\n",
    "allReggaeEvents = pd.concat([reggaeEventsdf,reggaeEventsdf2])"
   ]
  },
  {
   "cell_type": "code",
   "execution_count": null,
   "metadata": {},
   "outputs": [],
   "source": [
    "#get rid of duplicates\n",
    "allReggaeEvents = allReggaeEvents.drop_duplicates(subset='_id', keep='last')"
   ]
  },
  {
   "cell_type": "code",
   "execution_count": null,
   "metadata": {},
   "outputs": [],
   "source": [
    "print(minLatLdn)\n",
    "print(minLngLdn)\n",
    "print(maxLatLdn)\n",
    "print(maxLngLdn)"
   ]
  },
  {
   "cell_type": "code",
   "execution_count": null,
   "metadata": {},
   "outputs": [],
   "source": [
    "#now set up the ripley's k estimator object\n",
    "Kest = RipleysKEstimator(area=2,x_max=maxLngLdn, y_max=maxLatLdn, x_min=minLngLdn, y_min=minLatLdn)"
   ]
  },
  {
   "cell_type": "code",
   "execution_count": null,
   "metadata": {},
   "outputs": [],
   "source": [
    "#need to put the lat and lng as an array\n",
    "locsAsArray = londonEventsdfNoNan[['BNGnorthing', 'BNGeasting']].values"
   ]
  },
  {
   "cell_type": "code",
   "execution_count": null,
   "metadata": {},
   "outputs": [],
   "source": [
    "locsAsArray"
   ]
  },
  {
   "cell_type": "code",
   "execution_count": null,
   "metadata": {},
   "outputs": [],
   "source": [
    "#now get reggae locs\n",
    "regLocsAsArray = allReggaeEvents[['BNGnorthing', 'BNGeasting']].values"
   ]
  },
  {
   "cell_type": "code",
   "execution_count": null,
   "metadata": {},
   "outputs": [],
   "source": [
    "regLocsAsArray"
   ]
  },
  {
   "cell_type": "code",
   "execution_count": null,
   "metadata": {},
   "outputs": [],
   "source": [
    "#now to plot and have a look\n",
    "r = np.linspace(0, 2500, 50)\n",
    "plt.plot(r, Kest.poisson(r), color='green', ls=':', label=r'$K_{pois}$')\n",
    "plt.plot(r, Kest(data=locsAsArray, radii=r, mode='none'), color='red', ls='--',\n",
    "         label=r'$K_{un}$')\n",
    "plt.plot(r, Kest(data=locsAsArray, radii=r, mode='translation'), color='black',\n",
    "         label=r'$K_{trans}$')\n",
    "plt.plot(r, Kest(data=locsAsArray, radii=r, mode='ohser'), color='blue', ls='-.',\n",
    "         label=r'$K_{ohser}$')\n",
    "plt.plot(r, Kest(data=locsAsArray, radii=r, mode='var-width'), color='green',\n",
    "         label=r'$K_{var-width}$')\n",
    "plt.plot(r, Kest(data=locsAsArray, radii=r, mode='ripley'), color='yellow',\n",
    "         label=r'$K_{ripley}$')"
   ]
  },
  {
   "cell_type": "code",
   "execution_count": null,
   "metadata": {},
   "outputs": [],
   "source": [
    "#try out a dbscan of all reggae\n",
    "#create new dbscan cluster object\n",
    "dbscan = DBSCAN(eps=500, min_samples=3)"
   ]
  },
  {
   "cell_type": "code",
   "execution_count": null,
   "metadata": {},
   "outputs": [],
   "source": [
    "#get only locations from the reggae set\n",
    "#get just locations\n",
    "#use the locsArray again\n",
    "\n",
    "dbscan1stRun = dbscan.fit(locsAsArray)"
   ]
  },
  {
   "cell_type": "code",
   "execution_count": null,
   "metadata": {},
   "outputs": [],
   "source": [
    "#get the labels of the groups\n",
    "dbscan_labels = dbscan.labels_"
   ]
  },
  {
   "cell_type": "code",
   "execution_count": null,
   "metadata": {},
   "outputs": [],
   "source": [
    "dbscan_labels"
   ]
  },
  {
   "cell_type": "code",
   "execution_count": null,
   "metadata": {},
   "outputs": [],
   "source": [
    "#now add the labels back into the reggae dataframe\n",
    "#need to reindex allReggaeEvents for it to work\n",
    "#londonEventsdfNoNan = londonEventsdfNoNan.reset_index()"
   ]
  },
  {
   "cell_type": "code",
   "execution_count": null,
   "metadata": {},
   "outputs": [],
   "source": [
    "londonEventsdfNoNan['dbscanLabels1'] = pd.DataFrame(dbscan_labels)"
   ]
  },
  {
   "cell_type": "code",
   "execution_count": null,
   "metadata": {},
   "outputs": [],
   "source": [
    "#now give it a plot\n",
    "#define colorscheme\n",
    "\n",
    "londonEventsdfNoNan.plot.scatter(y='lng', x='lat', c='dbscanLabels1', )"
   ]
  },
  {
   "cell_type": "code",
   "execution_count": null,
   "metadata": {},
   "outputs": [],
   "source": [
    "#try clustering out on the whole dataset\n",
    "dbscan2ndRun = dbscan.fit(locsAsArray)"
   ]
  },
  {
   "cell_type": "code",
   "execution_count": null,
   "metadata": {},
   "outputs": [],
   "source": [
    "londonEventsdf"
   ]
  },
  {
   "cell_type": "code",
   "execution_count": null,
   "metadata": {},
   "outputs": [],
   "source": []
  }
 ],
 "metadata": {
  "kernelspec": {
   "display_name": "Python 3",
   "language": "python",
   "name": "python3"
  },
  "language_info": {
   "codemirror_mode": {
    "name": "ipython",
    "version": 3
   },
   "file_extension": ".py",
   "mimetype": "text/x-python",
   "name": "python",
   "nbconvert_exporter": "python",
   "pygments_lexer": "ipython3",
   "version": "3.6.4"
  }
 },
 "nbformat": 4,
 "nbformat_minor": 2
}
