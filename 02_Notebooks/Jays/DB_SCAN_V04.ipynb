{
 "cells": [
  {
   "cell_type": "markdown",
   "metadata": {},
   "source": [
    "# Import libs"
   ]
  },
  {
   "cell_type": "code",
   "execution_count": 1,
   "metadata": {},
   "outputs": [],
   "source": [
    "# Import some stuff\n",
    "import os\n",
    "from dotenv import load_dotenv\n",
    "from pathlib import Path\n",
    "from pymongo import MongoClient\n",
    "import matplotlib.pyplot as plt\n",
    "import pandas as pd\n",
    "import ast\n",
    "import datetime\n",
    "import seaborn as sns\n",
    "import json\n",
    "import numpy as np\n",
    "\n",
    "import matplotlib as mpl\n",
    "import plotly\n",
    "import plotly.plotly as py\n",
    "import plotly.graph_objs as go\n",
    "\n",
    "from datetime import datetime\n",
    "from dateutil.parser import parse\n",
    "import pandas as pd\n",
    "\n",
    "\n",
    "from pandas.io.json import json_normalize\n",
    "from PIL import Image\n",
    "\n",
    "\n",
    "#need to translate from wgs to bng to do spatial clustering\n",
    "import pyproj"
   ]
  },
  {
   "cell_type": "code",
   "execution_count": 2,
   "metadata": {},
   "outputs": [],
   "source": [
    "import folium\n",
    "from folium import plugins\n",
    "from folium.plugins import HeatMap"
   ]
  },
  {
   "cell_type": "code",
   "execution_count": null,
   "metadata": {},
   "outputs": [],
   "source": []
  },
  {
   "cell_type": "code",
   "execution_count": 3,
   "metadata": {},
   "outputs": [],
   "source": [
    "#plotly info\n",
    "plotly.tools.set_credentials_file(username='aclong', api_key='A9dlryDYONXram1rzbki')"
   ]
  },
  {
   "cell_type": "code",
   "execution_count": 4,
   "metadata": {},
   "outputs": [],
   "source": [
    "# specifies number of rows to show\n",
    "pd.set_option('display.max_rows', 300) \n",
    "\n",
    "# specifies default number format to 4 decimal places\n",
    "pd.options.display.float_format = '{:40,.4f}'.format \n",
    "\n",
    "# specifies that graphs should use ggplot styling\n",
    "plt.style.use('ggplot') \n",
    "\n",
    "%matplotlib inline"
   ]
  },
  {
   "cell_type": "code",
   "execution_count": null,
   "metadata": {},
   "outputs": [],
   "source": [
    "# load .env variable\n",
    "# base_dir = 'D:\\Documentos\\GitHub\\CityBlender'\n",
    "# dotenv_file = os.path.join(base_dir, '.env')\n",
    "\n",
    "base_dir = 'C:/Users/Alfie/Documents/MSc Smart Cities/Term 2/Spatial Data Capture Storage and Analysis/Coursework/Analysis Test/'\n",
    "dotenv_file = os.path.join(base_dir, '.env')\n",
    "\n",
    "\n",
    "if os.path.isfile(dotenv_file):\n",
    "    load_dotenv(dotenv_file, verbose=True)\n",
    "    \n",
    "db_uri = os.getenv('DB_URI')"
   ]
  },
  {
   "cell_type": "code",
   "execution_count": null,
   "metadata": {},
   "outputs": [],
   "source": [
    "# create a new MongoDB Client\n",
    "db_client = MongoClient(str(db_uri))\n",
    "\n",
    "# If it's ok it should return a 1.0\n",
    "db_client.london.command(\"serverStatus\")['ok']"
   ]
  },
  {
   "cell_type": "code",
   "execution_count": null,
   "metadata": {},
   "outputs": [],
   "source": [
    "# choose a database to connect to (.london)\n",
    "db_london = db_client.london\n",
    "\n",
    "# choose a collection\n",
    "db_london_events = db_london['events']\n",
    "db_london_artist = db_london['artists']"
   ]
  },
  {
   "cell_type": "code",
   "execution_count": null,
   "metadata": {},
<<<<<<< HEAD
   "outputs": [],
=======
   "outputs": [
    {
     "data": {
      "text/plain": [
       "<pymongo.cursor.Cursor at 0x215f57419b0>"
      ]
     },
     "execution_count": 8,
     "metadata": {},
     "output_type": "execute_result"
    }
   ],
>>>>>>> c07d05a37f0a3cd763a066af20c3f9d550a27761
   "source": [
    "# lookup all the documents in a collection\n",
    "db_london_events.find()"
   ]
  },
  {
   "cell_type": "markdown",
   "metadata": {},
   "source": [
    "## EOD"
   ]
  },
  {
   "cell_type": "code",
   "execution_count": null,
   "metadata": {},
   "outputs": [],
   "source": [
    "events = pd.DataFrame(list(db_london_events.find({})))"
   ]
  },
  {
   "cell_type": "code",
   "execution_count": null,
   "metadata": {},
   "outputs": [],
   "source": [
    "events.columns"
   ]
  },
  {
   "cell_type": "markdown",
   "metadata": {},
   "source": [
    "### For instance in the first row there are 3 events"
   ]
  },
  {
   "cell_type": "code",
   "execution_count": null,
   "metadata": {},
   "outputs": [],
   "source": [
    "# Put this in the date fomrat\n",
    "events['date'] = [(datetime.strptime(events['date'][x], '%Y-%m-%d')) for x in range(len(events['date']))]\n",
    "\n",
    "# Convert the dates into day name\n",
    "events['date_name'] = [(events['date'][x].strftime(\"%A\")) for x in range(len(events['date']))]\n",
    "\n",
    "# Lat & Long\n",
    "events['lat'] = [(events['location'][x]['lat']) for x in range(len(events['location']))]\n",
    "events['lng'] = [(events['location'][x]['lng']) for x in range(len(events['location']))]"
   ]
  },
  {
   "cell_type": "markdown",
   "metadata": {},
   "source": [
    "# Plotly Stuff"
   ]
  },
  {
   "cell_type": "code",
   "execution_count": null,
   "metadata": {},
   "outputs": [],
   "source": [
    "import plotly.plotly as py\n",
    "import plotly.graph_objs as go\n",
    "import plotly"
   ]
  },
  {
   "cell_type": "markdown",
   "metadata": {},
   "source": [
    "## City Level"
   ]
  },
  {
   "cell_type": "code",
   "execution_count": null,
   "metadata": {},
   "outputs": [],
   "source": [
    "import fiona\n",
    "from mpl_toolkits.basemap import Basemap   \n",
    "import pandas as pd\n",
    "from shapely.geometry import Polygon, Point, MultiPoint, MultiPolygon\n",
    "from shapely.prepared import prep\n",
    "import matplotlib.pyplot as plt\n",
    "from matplotlib.collections import PatchCollection\n",
    "from matplotlib.colors import Normalize\n",
    "from descartes import PolygonPatch"
   ]
  },
  {
   "cell_type": "markdown",
   "metadata": {},
   "source": [
    "# DB SCAN"
   ]
  },
  {
   "cell_type": "code",
   "execution_count": null,
   "metadata": {},
   "outputs": [],
   "source": [
    "#clustering\n",
    "from sklearn.cluster import DBSCAN\n",
    "from scipy import cluster\n",
    "from sklearn import metrics"
   ]
  },
  {
   "cell_type": "code",
<<<<<<< HEAD
   "execution_count": null,
   "metadata": {},
   "outputs": [],
=======
   "execution_count": 15,
   "metadata": {},
   "outputs": [
    {
     "data": {
      "text/plain": [
       "<matplotlib.collections.PathCollection at 0x215f797f588>"
      ]
     },
     "execution_count": 15,
     "metadata": {},
     "output_type": "execute_result"
    },
    {
     "data": {
      "image/png": "iVBORw0KGgoAAAANSUhEUgAAAYQAAAD8CAYAAAB3u9PLAAAABHNCSVQICAgIfAhkiAAAAAlwSFlz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\nTkSuQmCC\n",
      "text/plain": [
       "<Figure size 432x288 with 1 Axes>"
      ]
     },
     "metadata": {},
     "output_type": "display_data"
    }
   ],
>>>>>>> c07d05a37f0a3cd763a066af20c3f9d550a27761
   "source": [
    "plt.scatter(events['lng'], events['lat'])"
   ]
  },
  {
   "cell_type": "code",
<<<<<<< HEAD
   "execution_count": null,
=======
   "execution_count": 16,
>>>>>>> c07d05a37f0a3cd763a066af20c3f9d550a27761
   "metadata": {},
   "outputs": [],
   "source": [
    "subset = events[events['lat']<52]"
   ]
  },
  {
   "cell_type": "code",
   "execution_count": null,
   "metadata": {},
   "outputs": [],
   "source": [
    "plt.scatter(subset['lng'], subset['lat'])"
   ]
  },
  {
   "cell_type": "code",
<<<<<<< HEAD
   "execution_count": null,
=======
   "execution_count": 17,
>>>>>>> c07d05a37f0a3cd763a066af20c3f9d550a27761
   "metadata": {},
   "outputs": [],
   "source": [
    "subset = subset[subset['lat']>51.2]"
   ]
  },
  {
   "cell_type": "code",
   "execution_count": null,
   "metadata": {},
   "outputs": [],
   "source": [
    "plt.scatter(subset['lng'], subset['lat'])"
   ]
  },
  {
   "cell_type": "code",
<<<<<<< HEAD
   "execution_count": null,
=======
   "execution_count": 18,
>>>>>>> c07d05a37f0a3cd763a066af20c3f9d550a27761
   "metadata": {},
   "outputs": [],
   "source": [
    "def SCANING_DB(eps_var = 600 , min_sample_var = 5, db = subset, lat_var = 'lat', lng_var = 'lng'):\n",
    "    dbscan = DBSCAN(eps=eps_var, min_samples = min_sample_var)\n",
    "#     print(dbscan) \n",
    "    arrey_coords = db[[lat_var, lng_var]].values\n",
    "    #print(arrey_coords)\n",
    "    #try clustering out on the whole dataset\n",
    "    dbscan_result = dbscan.fit(arrey_coords)\n",
    "    dbscan_result_lbls = dbscan_result.labels_\n",
    "    return(dbscan_result_lbls)\n",
    "    \n",
    "    "
   ]
  },
  {
   "cell_type": "markdown",
   "metadata": {},
   "source": [
    "# Convert to BNG"
   ]
  },
  {
   "cell_type": "code",
<<<<<<< HEAD
   "execution_count": null,
=======
   "execution_count": 19,
>>>>>>> c07d05a37f0a3cd763a066af20c3f9d550a27761
   "metadata": {},
   "outputs": [],
   "source": [
    "#need to translate from wgs to bng to do spatial clustering\n",
    "import pyproj"
   ]
  },
  {
   "cell_type": "code",
<<<<<<< HEAD
   "execution_count": null,
=======
   "execution_count": 20,
>>>>>>> c07d05a37f0a3cd763a066af20c3f9d550a27761
   "metadata": {},
   "outputs": [],
   "source": [
    "#to do clustering locations need to be in BNG so that distances are in metres\n",
    "#Define projections using EPSG codes\n",
    "wgs84=pyproj.Proj(\"+init=EPSG:4326\") # LatLon with WGS84 datum used by songkick\n",
    "osgb36=pyproj.Proj(\"+init=EPSG:27700\") # UK Ordnance Survey, 1936 datum, for locations in eastings/northings/metres\n",
    "\n",
    "#create a new pd without NaNs\n",
    "londonEventsdfNoNan = subset[subset['lat'].notnull()]\n",
    "\n",
    "#make new columns for the new latlng\n",
    "londonEventsdfNoNan['BNGnorthing'] = \"\"\n",
    "londonEventsdfNoNan['BNGeasting'] = \"\"\n",
    "\n",
    "#reset the index - londonEventsdfNoNan now main dataframe\n",
    "londonEventsdfNoNan = londonEventsdfNoNan.reset_index()"
   ]
  },
  {
   "cell_type": "code",
<<<<<<< HEAD
   "execution_count": null,
=======
   "execution_count": 21,
>>>>>>> c07d05a37f0a3cd763a066af20c3f9d550a27761
   "metadata": {},
   "outputs": [],
   "source": [
    "#run through the dataset and transform those coordinates\n",
    "origLat = []\n",
    "origLng = []\n",
    "\n",
    "for i in range(0,len(londonEventsdfNoNan)):\n",
    "    # print(i)\n",
    "    try:\n",
    "        origLat.append(londonEventsdfNoNan['lat'][i])\n",
    "        origLng.append(londonEventsdfNoNan['lng'][i])\n",
    "        \n",
    "    except:\n",
    "        origLat.append(np.nan)\n",
    "        origLng.append(np.nan)"
   ]
  },
  {
   "cell_type": "code",
<<<<<<< HEAD
   "execution_count": null,
=======
   "execution_count": 22,
>>>>>>> c07d05a37f0a3cd763a066af20c3f9d550a27761
   "metadata": {},
   "outputs": [],
   "source": [
    "lat,lon = pyproj.transform(wgs84,osgb36,origLng,origLat)\n",
    "    \n",
    "londonEventsdfNoNan['BNGeasting'] = lat\n",
    "londonEventsdfNoNan['BNGnorthing'] = lon"
   ]
  },
  {
   "cell_type": "code",
<<<<<<< HEAD
   "execution_count": null,
=======
   "execution_count": 23,
>>>>>>> c07d05a37f0a3cd763a066af20c3f9d550a27761
   "metadata": {},
   "outputs": [],
   "source": [
    "#now convert from object to numeric\n",
    "londonEventsdfNoNan['BNGnorthing'] = pd.to_numeric(londonEventsdfNoNan['BNGnorthing'])\n",
    "londonEventsdfNoNan['BNGeasting'] = pd.to_numeric(londonEventsdfNoNan['BNGeasting'])"
   ]
  },
  {
   "cell_type": "code",
   "execution_count": null,
   "metadata": {},
   "outputs": [],
   "source": [
    "londonEventsdfNoNan"
   ]
  },
  {
   "cell_type": "code",
   "execution_count": null,
   "metadata": {},
   "outputs": [],
   "source": [
    "plt.scatter(londonEventsdfNoNan['lng'], londonEventsdfNoNan['lat'])"
   ]
  },
  {
   "cell_type": "code",
   "execution_count": null,
   "metadata": {},
   "outputs": [],
   "source": [
    "plt.scatter(londonEventsdfNoNan['BNGeasting'], londonEventsdfNoNan['BNGnorthing'])"
   ]
  },
  {
   "cell_type": "code",
   "execution_count": null,
   "metadata": {},
   "outputs": [],
   "source": [
    "plt.scatter(londonEventsdfNoNan['lat'], londonEventsdfNoNan['BNGnorthing'])"
   ]
  },
  {
   "cell_type": "code",
   "execution_count": null,
   "metadata": {},
   "outputs": [],
   "source": [
    "plt.scatter(londonEventsdfNoNan['lng'], londonEventsdfNoNan['BNGeasting'])"
   ]
  },
  {
   "cell_type": "code",
   "execution_count": null,
   "metadata": {},
   "outputs": [],
   "source": [
    "fitted = SCANING_DB(eps_var = 750, lat_var = 'BNGnorthing', lng_var = 'BNGeasting', db = londonEventsdfNoNan)\n",
    "londonEventsdfNoNan['cluster'] = fitted\n",
    "print(len(londonEventsdfNoNan['cluster'].unique()))\n",
    "print(londonEventsdfNoNan.groupby('cluster').count()['_id'].sort_values(ascending = False))\n",
    "londonEventsdfNoNan['cluster'].hist()"
   ]
  },
  {
   "cell_type": "code",
   "execution_count": null,
   "metadata": {},
   "outputs": [],
   "source": [
    "# Make a function to subset the genre depending on which dataset\n",
    "def subset_by_genre(db, lib = 'spotify', words = 'reggae'):\n",
    "    return db[db[lib].astype(str).str.contains(words, case=False)]\n",
    "\n",
    "#create a genre compiling function\n",
    "def genre_df_compiler(genreName, db = londonEventsdfNoNan):\n",
    "    firstEventsdf = subset_by_genre(db, lib='spotify',words = genreName)\n",
    "    secondEventsdf = subset_by_genre(db, lib='lastfm',words = genreName)\n",
    "    allEventsdf = \"all\"+genreName+\"Events\" \n",
    "    allEventsdf = pd.concat([firstEventsdf, secondEventsdf])\n",
    "    allEventsdf = allEventsdf.drop_duplicates(subset='_id', keep='last')\n",
    "    return(allEventsdf)"
   ]
  },
  {
   "cell_type": "markdown",
   "metadata": {},
   "source": [
    "# Test jazz"
   ]
  },
  {
   "cell_type": "code",
   "execution_count": null,
   "metadata": {},
   "outputs": [],
   "source": [
    "def eps_df_genre(db, epsMin = 1, epsMax = 2000, epsStep = 10, labelColName = \"ClusterNosjazz\", silColName = 'silhouScorejazz', lat_var = 'BNGnorthing', lng_var = 'BNGeasting'):\n",
    "    clusterNos = []\n",
    "    silhouScore = []\n",
    "    epsValues = list(range(epsMin, epsMax, epsStep))\n",
    "    epsDF = pd.DataFrame(epsValues)\n",
    "    for i in epsValues:\n",
    "        fitted = SCANING_DB(eps_var = i, lat_var = 'BNGnorthing', lng_var = 'BNGeasting', db = db)\n",
    "        db['cluster'] = fitted\n",
    "        array_coords = db[[lat_var, lng_var]].values\n",
    "        silHouMet = metrics.silhouette_score(array_coords, fitted)\n",
    "        silhouScore.append(silHouMet)\n",
    "        clusterNos.append(len(db['cluster'].unique()))\n",
    "    epsDF[labelColName] = pd.DataFrame(clusterNos)\n",
    "    epsDF[silColName] = pd.DataFrame(silhouScore)\n",
    "    return epsDF"
   ]
  },
  {
   "cell_type": "code",
   "execution_count": null,
   "metadata": {},
   "outputs": [],
   "source": [
    "# def get_silhouette_score(db = folk, lat_var = 'BNGnorthing', lng_var = 'BNGeasting', labelColName = 'folk500by5Labels'):\n",
    "#     array_coords = db[[lat_var, lng_var]].values\n",
    "#     labelsList = db[labelColName].tolist()\n",
    "#     silHouMet = metrics.silhouette_score(array_coords, labelsList)\n",
    "#     return(silHouMet)\n",
    "# silHouMet = get_silhouette_score(db = jazz, lat_var = 'BNGnorthing', lng_var = 'BNGeasting', labelColName = 'cluster')"
   ]
  },
  {
   "cell_type": "code",
   "execution_count": null,
   "metadata": {},
   "outputs": [],
   "source": [
    "\n",
    "epsDFevents = eps_df_genre(db = londonEventsdfNoNan, labelColName = \"ClusterNosevents\", silColName = 'silhouScoreevents')"
   ]
  },
  {
   "cell_type": "code",
   "execution_count": null,
   "metadata": {},
   "outputs": [],
   "source": [
    "jazz =  genre_df_compiler('jazz', db = londonEventsdfNoNan)\n",
    "jazz.reset_index(inplace = True)"
   ]
  },
  {
   "cell_type": "code",
   "execution_count": null,
   "metadata": {},
   "outputs": [],
   "source": [
    "epsDFjazz = eps_df_genre(db = jazz, labelColName = \"ClusterNosjazz\", silColName = 'silhouScorejazz')"
   ]
  },
  {
   "cell_type": "code",
   "execution_count": null,
   "metadata": {},
   "outputs": [],
   "source": [
    "punk =  genre_df_compiler('punk', db = londonEventsdfNoNan)\n",
    "punk.reset_index(inplace = True)"
   ]
  },
  {
   "cell_type": "code",
   "execution_count": null,
   "metadata": {},
   "outputs": [],
   "source": [
    "epsDFpunk = eps_df_genre(db = punk, labelColName = \"ClusterNospunk\", silColName = 'silhouScorepunk')"
   ]
  },
  {
   "cell_type": "code",
   "execution_count": null,
   "metadata": {},
   "outputs": [],
   "source": [
    "techno =  genre_df_compiler('techno', db = londonEventsdfNoNan)\n",
    "techno.reset_index(inplace = True)"
   ]
  },
  {
   "cell_type": "code",
   "execution_count": null,
   "metadata": {},
   "outputs": [],
   "source": [
    "epsDFtechno = eps_df_genre(db = techno, labelColName = \"ClusterNostechno\", silColName = 'silhouScoretechno')"
   ]
  },
  {
   "cell_type": "code",
   "execution_count": null,
   "metadata": {},
   "outputs": [],
   "source": [
    "folk =  genre_df_compiler('folk', db = londonEventsdfNoNan)\n",
    "folk.reset_index(inplace = True)\n"
   ]
  },
  {
   "cell_type": "code",
   "execution_count": null,
   "metadata": {},
   "outputs": [],
   "source": [
    "epsDFfolk = eps_df_genre(db = folk, labelColName = \"ClusterNosfolk\", silColName = 'silhouScorefolk')"
   ]
  },
  {
   "cell_type": "code",
   "execution_count": null,
   "metadata": {},
   "outputs": [],
   "source": [
    "classical =  genre_df_compiler('classical', db = londonEventsdfNoNan)\n",
    "classical.reset_index(inplace = True)\n"
   ]
  },
  {
   "cell_type": "code",
   "execution_count": null,
   "metadata": {},
   "outputs": [],
   "source": [
    "epsDFclassical = eps_df_genre(db = classical, labelColName = \"ClusterNosclassical\", silColName = 'silhouScoreclassical')"
   ]
  },
  {
   "cell_type": "code",
   "execution_count": null,
   "metadata": {},
   "outputs": [],
   "source": [
    "house =  genre_df_compiler('house', db = londonEventsdfNoNan)\n",
    "house.reset_index(inplace = True)"
   ]
  },
  {
   "cell_type": "code",
   "execution_count": null,
   "metadata": {},
   "outputs": [],
   "source": [
    "epsDFhouse = eps_df_genre(db = house, labelColName = \"ClusterNoshouse\", silColName = 'silhouScorehouse')"
   ]
  },
  {
   "cell_type": "code",
   "execution_count": null,
   "metadata": {},
   "outputs": [],
   "source": [
    "reggae =  genre_df_compiler('reggae', db = londonEventsdfNoNan)\n",
    "reggae.reset_index(inplace = True)\n"
   ]
  },
  {
   "cell_type": "code",
   "execution_count": null,
   "metadata": {},
   "outputs": [],
   "source": [
    "epsDFreggae = eps_df_genre(db = reggae, labelColName = \"ClusterNosreggae\", silColName = 'silhouScorereggae')"
   ]
  },
  {
   "cell_type": "code",
   "execution_count": null,
   "metadata": {},
   "outputs": [],
   "source": [
    "epsDFall = pd.concat([epsDFevents, epsDFjazz, epsDFfolk, epsDFhouse, epsDFclassical, epsDFreggae, epsDFpunk, epsDFtechno], axis=1, join_axes=[epsDFevents[0]])"
   ]
  },
  {
   "cell_type": "code",
   "execution_count": null,
   "metadata": {},
   "outputs": [],
   "source": [
    "epsDFall"
   ]
  },
  {
   "cell_type": "code",
   "execution_count": null,
   "metadata": {},
   "outputs": [],
   "source": [
    "epsDFall = epsDFall.loc[:,~epsDFall.columns.duplicated()]"
   ]
  },
  {
   "cell_type": "code",
   "execution_count": null,
   "metadata": {},
   "outputs": [],
   "source": [
    "epsDFall.columns"
   ]
  },
  {
   "cell_type": "code",
   "execution_count": null,
   "metadata": {},
   "outputs": [],
   "source": [
    "trace0 = go.Scatter(x=epsDFall[0], \n",
    "                    y = epsDFall['silhouScoreevents'], \n",
    "                    name = 'All Events', \n",
    "                    line = dict(color = ('rgb(205, 12, 24)'), width = 4))\n",
    "trace1 = go.Scatter(x=epsDFall[0], \n",
    "                    y = epsDFall['silhouScorejazz'], \n",
    "                    name = 'Jazz Events', \n",
    "                    line = dict(color = ('rgb(22, 96, 167)'), width = 4))\n",
    "trace2 = go.Scatter(x=epsDFall[0], \n",
    "                    y = epsDFall['silhouScorefolk'], \n",
    "                    name = 'Folk Events', \n",
    "                    line = dict(color = ('rgb(100, 12, 24)'), width = 4))\n",
    "trace3 = go.Scatter(x=epsDFall[0], \n",
    "                    y = epsDFall['silhouScorehouse'], \n",
    "                    name = 'House Events', \n",
    "                    line = dict(color = ('rgb(150, 96, 167)'), width = 4))\n",
    "trace4 = go.Scatter(x=epsDFall[0], \n",
    "                    y = epsDFall['silhouScoreclassical'], \n",
    "                    name = 'Classical Events', \n",
    "                    line = dict(color = ('rgb(70, 96, 167)'), width = 4))\n",
    "trace5 = go.Scatter(x=epsDFall[0], \n",
    "                    y = epsDFall['silhouScorereggae'], \n",
    "                    name = 'Reggae Events', \n",
    "                    line = dict(color = ('rgb(175, 200, 167)'), width = 4))\n",
    "trace6 = go.Scatter(x=epsDFall[0], \n",
    "                    y = epsDFall['silhouScorepunk'], \n",
    "                    name = 'Punk Events', \n",
    "                    line = dict(color = ('rgb(255, 96, 167)'), width = 4))\n",
    "trace7 = go.Scatter(x=epsDFall[0], \n",
    "                    y = epsDFall['silhouScoretechno'], \n",
    "                    name = 'Techno Events', \n",
    "                    line = dict(color = ('rgb(70, 96, 100)'), width = 4))\n",
    "\n",
    "graphData = [\n",
    "             trace0, \n",
    "             trace1, \n",
    "             trace2, \n",
    "             trace3, \n",
    "             trace4,\n",
    "             trace5,\n",
    "             trace6,\n",
    "             trace7\n",
    "            ]\n",
    "\n",
    "# Edit the layout\n",
    "layout = dict(title = 'Silhouette Scores No. Clusters at EPS values',\n",
    "              xaxis = dict(title = 'EPS Value'),\n",
    "              yaxis = dict(title = 'Silhouette Score'),\n",
    "              )\n",
    "\n",
    "fig = dict(data=graphData, layout=layout)\n",
    "py.iplot(fig, filename='EPS-change-diff-genres-silhouette-score')"
   ]
  },
  {
   "cell_type": "code",
   "execution_count": null,
   "metadata": {},
   "outputs": [],
   "source": [
    "trace0 = go.Scatter(x=epsDFall[0], \n",
    "                    y = epsDFall['ClusterNosevents'], \n",
    "                    name = 'All Events', \n",
    "                    line = dict(color = ('rgb(205, 12, 24)'), width = 4))\n",
    "trace1 = go.Scatter(x=epsDFall[0], \n",
    "                    y = epsDFall['ClusterNosjazz'], \n",
    "                    name = 'Jazz Events', \n",
    "                    line = dict(color = ('rgb(22, 96, 167)'), width = 4))\n",
    "trace2 = go.Scatter(x=epsDFall[0], \n",
    "                    y = epsDFall['ClusterNosfolk'], \n",
    "                    name = 'Folk Events', \n",
    "                    line = dict(color = ('rgb(100, 12, 24)'), width = 4))\n",
    "trace3 = go.Scatter(x=epsDFall[0], \n",
    "                    y = epsDFall['ClusterNoshouse'], \n",
    "                    name = 'House Events', \n",
    "                    line = dict(color = ('rgb(150, 96, 167)'), width = 4))\n",
    "trace4 = go.Scatter(x=epsDFall[0], \n",
    "                    y = epsDFall['ClusterNosclassical'], \n",
    "                    name = 'Classical Events', \n",
    "                    line = dict(color = ('rgb(70, 96, 167)'), width = 4))\n",
    "trace5 = go.Scatter(x=epsDFall[0], \n",
    "                    y = epsDFall['ClusterNosreggae'], \n",
    "                    name = 'Reggae Events', \n",
    "                    line = dict(color = ('rgb(175, 200, 167)'), width = 4))\n",
    "trace6 = go.Scatter(x=epsDFall[0], \n",
    "                    y = epsDFall['ClusterNospunk'], \n",
    "                    name = 'Punk Events', \n",
    "                    line = dict(color = ('rgb(255, 96, 167)'), width = 4))\n",
    "trace7 = go.Scatter(x=epsDFall[0], \n",
    "                    y = epsDFall['ClusterNostechno'], \n",
    "                    name = 'Techno Events', \n",
    "                    line = dict(color = ('rgb(70, 96, 100)'), width = 4))\n",
    "\n",
    "\n",
    "graphData = [\n",
    "#              trace0, \n",
    "             trace1, \n",
    "             trace2, \n",
    "             trace3, \n",
    "             trace4,\n",
    "             trace5,\n",
    "             trace6,\n",
    "             trace7\n",
    "            ]\n",
    "\n",
    "# Edit the layout\n",
    "layout = dict(title = 'No. Clusters at EPS values',\n",
    "              xaxis = dict(title = 'EPS Value'),\n",
    "              yaxis = dict(title = 'No. Clusters'),\n",
    "              )\n",
    "\n",
    "fig = dict(data=graphData, layout=layout)\n",
    "py.iplot(fig, filename='EPS-change-diff-genres')"
   ]
  },
  {
   "cell_type": "code",
   "execution_count": null,
   "metadata": {},
   "outputs": [],
   "source": [
    "folk"
   ]
  },
  {
   "cell_type": "code",
   "execution_count": null,
   "metadata": {},
   "outputs": [],
   "source": [
    "def get_cluster_labelcol(db = folk, eps_var = 500, min_sample_var = 5, lat_var = 'BNGnorthing', lng_var = 'BNGeasting', colName = 'folk500by5Labels'):\n",
    "    dbscanLabels = SCANING_DB(eps_var = eps_var, min_sample_var = min_sample_var, db = db, lat_var = lat_var, lng_var = lng_var)\n",
    "    db[colName] = pd.DataFrame(dbscanLabels)\n",
    "    return(db)"
   ]
  },
  {
   "cell_type": "code",
   "execution_count": null,
   "metadata": {},
   "outputs": [],
   "source": [
    "def get_silhouette_score(db = folk, lat_var = 'BNGnorthing', lng_var = 'BNGeasting', labelColName = 'folk500by5Labels'):\n",
    "    array_coords = db[[lat_var, lng_var]].values\n",
    "    labelsList = db[labelColName].tolist()\n",
    "    silHouMet = metrics.silhouette_score(array_coords, labelsList)\n",
    "    return(silHouMet)\n",
    "    "
   ]
  },
  {
   "cell_type": "code",
   "execution_count": null,
   "metadata": {},
   "outputs": [],
   "source": [
    "folkSihouScore = get_silhouette_score()\n",
    "print(folkSihouScore)"
   ]
  },
  {
   "cell_type": "code",
   "execution_count": null,
   "metadata": {},
   "outputs": [],
   "source": [
    "folk = get_cluster_labelcol()"
   ]
  },
  {
   "cell_type": "code",
   "execution_count": null,
   "metadata": {},
   "outputs": [],
   "source": [
    "folk"
   ]
  },
  {
   "cell_type": "code",
   "execution_count": null,
   "metadata": {},
   "outputs": [],
   "source": [
    "#now get folium map of clusters\n",
    "#need to create the function to add labels of clusters to the dataframe\n",
    "#eps 500 minsamples 5\n",
    "# def SCANING_DB(eps_var = 0.1 , min_sample_var = 5, db = subset, lat_var = 'lat', lng_var = 'lng'):\n",
    "#     dbscan = DBSCAN(eps=eps_var, min_samples = min_sample_var)\n",
    "#     print(dbscan) \n",
    "#     arrey_coords = db[[lat_var, lng_var]].values\n",
    "    #print(arrey_coords)\n",
    "# try clustering out on the whole dataset\n",
    "#     dbscan_result = dbscan.fit(arrey_coords)\n",
    "#     dbscan_result_lbls = dbscan_result.labels_\n",
    "#     return(dbscan_result_lbls)\n",
    "\n",
    "dbscanJazzLabels = SCANING_DB(eps_var = 500, db = jazz, lat_var = 'BNGnorthing', lng_var = 'BNGeasting')\n",
    "\n",
    "jazz['dbscan500by5JazzEvents'] = pd.DataFrame(dbscanJazzLabels)\n",
    "\n",
    "jazz['dbscan500by5JazzEvents'].hist()\n",
    "\n",
    "jazz.plot.scatter(y='BNGnorthing', x='BNGeasting', c='dbscan500by5JazzEvents')"
   ]
  },
  {
   "cell_type": "code",
   "execution_count": null,
   "metadata": {},
   "outputs": [],
   "source": [
    "epsDFevents.ClusterNosevents.unique()"
   ]
  },
  {
   "cell_type": "code",
   "execution_count": null,
   "metadata": {},
   "outputs": [],
   "source": [
    "#find the different labels inside the db\n",
    "jazz.dbscan500by5JazzEvents.unique()"
   ]
  },
  {
   "cell_type": "code",
   "execution_count": null,
   "metadata": {},
   "outputs": [],
   "source": [
    "dbscanJazzLabels = SCANING_DB(eps_var = 500, db = jazz, lat_var = 'BNGnorthing', lng_var = 'BNGeasting')\n",
    "\n",
    "jazz['dbscan500by5jazzEvents'] = pd.DataFrame(dbscanJazzLabels)"
   ]
  },
  {
   "cell_type": "code",
   "execution_count": null,
   "metadata": {},
   "outputs": [],
   "source": [
    "dbscanFolkLabels = SCANING_DB(eps_var = 500, db = folk, lat_var = 'BNGnorthing', lng_var = 'BNGeasting')\n",
    "\n",
    "folk['dbscan500by5folkEvents'] = pd.DataFrame(dbscanFolkLabels)"
   ]
  },
  {
   "cell_type": "code",
   "execution_count": null,
   "metadata": {},
   "outputs": [],
   "source": [
    "dbscanHouseLabels = SCANING_DB(eps_var = 500, db = house, lat_var = 'BNGnorthing', lng_var = 'BNGeasting')\n",
    "\n",
    "house['dbscan500by5houseEvents'] = pd.DataFrame(dbscanHouseLabels)"
   ]
  },
  {
   "cell_type": "code",
   "execution_count": null,
   "metadata": {},
   "outputs": [],
   "source": [
    "dbscanClassicalLabels = SCANING_DB(eps_var = 500, db = classical, lat_var = 'BNGnorthing', lng_var = 'BNGeasting')\n",
    "\n",
    "classical['dbscan500by5classicalEvents'] = pd.DataFrame(dbscanClassicalLabels)"
   ]
  },
  {
   "cell_type": "code",
   "execution_count": null,
   "metadata": {},
   "outputs": [],
   "source": [
    "dbscanReggaeLabels = SCANING_DB(eps_var = 500, db = reggae, lat_var = 'BNGnorthing', lng_var = 'BNGeasting')\n",
    "\n",
    "reggae['dbscan500by5reggaeEvents'] = pd.DataFrame(dbscanReggaeLabels)"
   ]
  },
  {
   "cell_type": "code",
   "execution_count": null,
   "metadata": {},
   "outputs": [],
   "source": [
    "dbscanPunkLabels = SCANING_DB(eps_var = 500, db = punk, lat_var = 'BNGnorthing', lng_var = 'BNGeasting')\n",
    "\n",
    "punk['dbscan500by5punkEvents'] = pd.DataFrame(dbscanPunkLabels)"
   ]
  },
  {
   "cell_type": "code",
   "execution_count": null,
   "metadata": {},
   "outputs": [],
   "source": [
    "dbscanTechnoLabels = SCANING_DB(eps_var = 500, db = techno, lat_var = 'BNGnorthing', lng_var = 'BNGeasting')\n",
    "\n",
    "techno['dbscan500by5technoEvents'] = pd.DataFrame(dbscanTechnoLabels)"
   ]
  },
  {
   "cell_type": "markdown",
   "metadata": {},
   "source": [
    "#possible colors\n",
    "colors = [\n",
    "    'red',\n",
    "    'blue',\n",
    "    'gray',\n",
    "    'darkred',\n",
    "    'lightred',\n",
    "    'orange',\n",
    "    'beige',\n",
    "    'green',\n",
    "    'darkgreen',\n",
    "    'lightgreen',\n",
    "    'darkblue',\n",
    "    'lightblue',\n",
    "    'purple',\n",
    "    'darkpurple',\n",
    "    'pink',\n",
    "    'cadetblue',\n",
    "    'lightgray',\n",
    "    'black']\n"
   ]
  },
  {
   "cell_type": "code",
   "execution_count": null,
   "metadata": {},
   "outputs": [],
   "source": [
    "def folium_map_genreclusters(db = jazz, clusterLabelColName = 'dbscan500by5JazzEvents'):\n",
    "    latList = db['lat'].tolist()\n",
    "    lngList = db['lng'].tolist()\n",
    "    clusterLabelList = db[clusterLabelColName].tolist()\n",
    "    medLat = db['lat'].median()\n",
    "    medLng = db['lng'].median()\n",
    "    \n",
    "    this_map = folium.Map([51.5074, -0.1277], zoom_start=12, tiles=\"cartodbdark_matter\", control_scale=True)\n",
    "\n",
    "\n",
    "\n",
    "\n",
    "    for lat, lng, label in zip(latList, lngList, clusterLabelList):\n",
    "            if label == -1:\n",
    "                this_map.add_child(folium.CircleMarker([lat, lng], \n",
    "#                                            popup=label, \n",
    "                                           radius = 5, color='gray', fill_color='orange', fill_opacity=0.7))\n",
    "            elif label == 0:\n",
    "                this_map.add_child(folium.CircleMarker([lat, lng], \n",
    "#                                            popup=label, \n",
    "                                           radius = 5, color='blue', fill_color='orange', fill_opacity=0.7))\n",
    "            elif label == 1:\n",
    "                this_map.add_child(folium.CircleMarker([lat, lng], \n",
    "#                                            popup=label, \n",
    "                                           radius = 5, color='lightred', fill_color='orange', fill_opacity=0.7))\n",
    "            elif label == 2:\n",
    "                this_map.add_child(folium.CircleMarker([lat, lng], \n",
    "#                                            popup=label, \n",
    "                                           radius = 5, color='yellow', fill_color='orange', fill_opacity=0.7))\n",
    "            elif label == 3:\n",
    "                this_map.add_child(folium.CircleMarker([lat, lng], \n",
    "#                                            popup=label, \n",
    "                                           radius = 5, color='lightgreen', fill_color='orange', fill_opacity=0.7))\n",
    "            elif label == 4:\n",
    "                this_map.add_child(folium.CircleMarker([lat, lng], \n",
    "#                                            popup=label, \n",
    "                                           radius = 5, color='orange', fill_color='orange', fill_opacity=0.7))\n",
    "            elif label == 5:\n",
    "                this_map.add_child(folium.CircleMarker([lat, lng], \n",
    "#                                            popup=label, \n",
    "                                           radius = 5, color='purple', fill_color='orange', fill_opacity=0.7))\n",
    "            elif label == 6:\n",
    "                this_map.add_child(folium.CircleMarker([lat, lng], \n",
    "#                                            popup=label, \n",
    "                                           radius = 5, color='pink', fill_color='orange', fill_opacity=0.7))\n",
    "            elif label == 7:\n",
    "                this_map.add_child(folium.CircleMarker([lat, lng], \n",
    "#                                            popup=label, \n",
    "                                           radius = 5, color='lightblue', fill_color='orange', fill_opacity=0.7))\n",
    "            elif label == 8:\n",
    "                this_map.add_child(folium.CircleMarker([lat, lng], \n",
    "#                                            popup=label, \n",
    "                                           radius = 5, color='black', fill_color='orange', fill_opacity=0.7))\n",
    "            elif label == 9:\n",
    "                this_map.add_child(folium.CircleMarker([lat, lng], \n",
    "#                                            popup=label, \n",
    "                                           radius = 5, color='darkred', fill_color='orange', fill_opacity=0.7))\n",
    "            elif label == 10:\n",
    "                this_map.add_child(folium.CircleMarker([lat, lng], \n",
    "#                                            popup=label, \n",
    "                                           radius = 5, color='beige', fill_color='orange', fill_opacity=0.7))\n",
    "            elif label == 11:\n",
    "                this_map.add_child(folium.CircleMarker([lat, lng], \n",
    "#                                            popup=label, \n",
    "                                           radius = 5, color='cadetblue', fill_color='orange', fill_opacity=0.7))\n",
    "            elif label == 12:\n",
    "                this_map.add_child(folium.CircleMarker([lat, lng], \n",
    "#                                            popup=label, \n",
    "                                           radius = 5, color='darkgreen', fill_color='orange', fill_opacity=0.7))\n",
    "            elif label == 13:\n",
    "                this_map.add_child(folium.CircleMarker([lat, lng], \n",
    "#                                            popup=label, \n",
    "                                           radius = 5, color='darkblue', fill_color='orange', fill_opacity=0.7))\n",
    "            elif label == 14:\n",
    "                this_map.add_child(folium.CircleMarker([lat, lng], \n",
    "#                                            popup=label, \n",
    "                                           radius = 5, color='green', fill_color='orange', fill_opacity=0.7))\n",
    "            elif label == 15:\n",
    "                this_map.add_child(folium.CircleMarker([lat, lng], \n",
    "#                                            popup=label, \n",
    "                                           radius = 5, color='red', fill_color='orange', fill_opacity=0.7))\n",
    "            elif label == 16:\n",
    "                this_map.add_child(folium.CircleMarker([lat, lng], \n",
    "#                                            popup=label, \n",
    "                                           radius = 5, color='darkpurple', fill_color='orange', fill_opacity=0.7))\n",
    "            else:\n",
    "                pass\n",
    "        \n",
    "    return(this_map)\n",
    "\n",
    "    "
   ]
  },
  {
   "cell_type": "code",
   "execution_count": null,
   "metadata": {
    "scrolled": true
   },
   "outputs": [],
   "source": [
    "jazzClusterMap = folium_map_genreclusters(db = jazz, clusterLabelColName = 'dbscan500by5jazzEvents')"
   ]
  },
  {
   "cell_type": "code",
   "execution_count": null,
   "metadata": {},
   "outputs": [],
   "source": [
    "folkClusterMap = folium_map_genreclusters(db = folk, clusterLabelColName = 'dbscan500by5folkEvents')"
   ]
  },
  {
   "cell_type": "code",
   "execution_count": null,
   "metadata": {},
   "outputs": [],
   "source": [
    "houseClusterMap = folium_map_genreclusters(db = house, clusterLabelColName = 'dbscan500by5houseEvents')"
   ]
  },
  {
   "cell_type": "code",
   "execution_count": null,
   "metadata": {},
   "outputs": [],
   "source": [
    "classicalClusterMap = folium_map_genreclusters(db = classical, clusterLabelColName = 'dbscan500by5classicalEvents')"
   ]
  },
  {
   "cell_type": "code",
   "execution_count": null,
   "metadata": {},
   "outputs": [],
   "source": [
    "reggaeClusterMap = folium_map_genreclusters(db = reggae, clusterLabelColName = 'dbscan500by5reggaeEvents')\n"
   ]
  },
  {
   "cell_type": "code",
   "execution_count": null,
   "metadata": {},
   "outputs": [],
   "source": [
    "punkClusterMap = folium_map_genreclusters(db = punk, clusterLabelColName = 'dbscan500by5punkEvents')"
   ]
  },
  {
   "cell_type": "code",
   "execution_count": null,
   "metadata": {},
   "outputs": [],
   "source": [
    "technoClusterMap = folium_map_genreclusters(db = techno, clusterLabelColName = 'dbscan500by5technoEvents')"
   ]
  },
  {
   "cell_type": "code",
   "execution_count": null,
   "metadata": {},
   "outputs": [],
   "source": [
    "jazzClusterMap.save('C:/Users/Alfie/Documents/MSc Smart Cities/Term 2/Spatial Data Capture Storage and Analysis/Coursework/Maps/jazzClusterMap.html')"
   ]
  },
  {
   "cell_type": "code",
   "execution_count": null,
   "metadata": {},
   "outputs": [],
   "source": [
    "jazzClusterMap\n"
   ]
  },
  {
   "cell_type": "code",
   "execution_count": null,
   "metadata": {},
   "outputs": [],
   "source": [
    "folkClusterMap.save('C:/Users/Alfie/Documents/MSc Smart Cities/Term 2/Spatial Data Capture Storage and Analysis/Coursework/Maps/folkClusterMap.html')"
   ]
  },
  {
   "cell_type": "code",
   "execution_count": null,
   "metadata": {},
   "outputs": [],
   "source": [
    "folkClusterMap"
   ]
  },
  {
   "cell_type": "code",
   "execution_count": null,
   "metadata": {},
   "outputs": [],
   "source": [
    "classicalClusterMap.save('C:/Users/Alfie/Documents/MSc Smart Cities/Term 2/Spatial Data Capture Storage and Analysis/Coursework/Maps/classicalClusterMap.html')"
   ]
  },
  {
   "cell_type": "code",
   "execution_count": null,
   "metadata": {
    "scrolled": true
   },
   "outputs": [],
   "source": [
    "classicalClusterMap"
   ]
  },
  {
   "cell_type": "code",
   "execution_count": null,
   "metadata": {},
   "outputs": [],
   "source": [
    "punkClusterMap.save('C:/Users/Alfie/Documents/MSc Smart Cities/Term 2/Spatial Data Capture Storage and Analysis/Coursework/Maps/punkClusterMap.html')"
   ]
  },
  {
   "cell_type": "code",
   "execution_count": null,
   "metadata": {
    "scrolled": true
   },
   "outputs": [],
   "source": [
    "punkClusterMap"
   ]
  },
  {
   "cell_type": "code",
   "execution_count": null,
   "metadata": {},
   "outputs": [],
   "source": [
    "technoClusterMap.save('C:/Users/Alfie/Documents/MSc Smart Cities/Term 2/Spatial Data Capture Storage and Analysis/Coursework/Maps/technoClusterMap.html')"
   ]
  },
  {
   "cell_type": "code",
   "execution_count": null,
   "metadata": {},
   "outputs": [],
   "source": [
    "technoClusterMap"
   ]
  },
  {
   "cell_type": "code",
   "execution_count": null,
   "metadata": {},
   "outputs": [],
   "source": [
    "reggaeClusterMap.save('C:/Users/Alfie/Documents/MSc Smart Cities/Term 2/Spatial Data Capture Storage and Analysis/Coursework/Maps/reggaeClusterMap.html')"
   ]
  },
  {
   "cell_type": "code",
   "execution_count": null,
   "metadata": {},
   "outputs": [],
   "source": [
    "reggaeClusterMap"
   ]
  },
  {
   "cell_type": "code",
   "execution_count": null,
   "metadata": {},
   "outputs": [],
   "source": [
    "houseClusterMap.save('C:/Users/Alfie/Documents/MSc Smart Cities/Term 2/Spatial Data Capture Storage and Analysis/Coursework/Maps/houseClusterMap.html')"
   ]
  },
  {
   "cell_type": "code",
   "execution_count": null,
   "metadata": {},
   "outputs": [],
   "source": [
    "houseClusterMap"
   ]
  },
  {
   "cell_type": "code",
   "execution_count": null,
   "metadata": {},
   "outputs": [],
   "source": []
  }
 ],
 "metadata": {
  "kernelspec": {
   "display_name": "Python 3",
   "language": "python",
   "name": "python3"
  },
  "language_info": {
   "codemirror_mode": {
    "name": "ipython",
    "version": 3
   },
   "file_extension": ".py",
   "mimetype": "text/x-python",
   "name": "python",
   "nbconvert_exporter": "python",
   "pygments_lexer": "ipython3",
   "version": "3.6.4"
  }
 },
 "nbformat": 4,
 "nbformat_minor": 2
}
