{
 "cells": [
  {
   "cell_type": "code",
   "execution_count": null,
   "metadata": {},
   "outputs": [],
   "source": [
    "#how to load in"
   ]
  },
  {
   "cell_type": "code",
   "execution_count": null,
   "metadata": {},
   "outputs": [],
   "source": [
    "from astropy.stats import RipleysKEstimator"
   ]
  },
  {
   "cell_type": "code",
   "execution_count": null,
   "metadata": {},
   "outputs": [],
   "source": [
    "#get the min and max of area to create Kest object\n",
    "minNorthLdn = min(londonEventsdfNoNan['BNGnorthing'])\n",
    "minEastLdn = min(londonEventsdfNoNan['BNGeasting'])\n",
    "maxNorthLdn = max(londonEventsdfNoNan['BNGnorthing'])\n",
    "maxEastLdn = max(londonEventsdfNoNan['BNGeasting'])"
   ]
  },
  {
   "cell_type": "code",
   "execution_count": null,
   "metadata": {},
   "outputs": [],
   "source": [
    "#now set up the ripley's k estimator object\n",
    "Kest = RipleysKEstimator(area=30000,x_max=maxEastLdn, y_max=maxNorthLdn, x_min=minEastLdn, y_min=minNorthLdn)"
   ]
  },
  {
   "cell_type": "code",
   "execution_count": null,
   "metadata": {},
   "outputs": [],
   "source": [
    "#create array of locations\n",
    "#need to put the lat and lng as an array\n",
    "locsAsArray = londonEventsdfNoNan[['BNGeasting', 'BNGnorthing']].values"
   ]
  },
  {
   "cell_type": "code",
   "execution_count": null,
   "metadata": {},
   "outputs": [],
   "source": [
    "#now to plot and have a look\n",
    "r = np.linspace(0, 750, num = 100)\n",
    "# plt.plot(r, Kest.poisson(r), color='green', ls=':', label=r'$K_{pois}$')\n",
    "plt.plot(r, Kest(data=folkLocsAsArray, radii=r, mode='none'), color='red', ls='--',\n",
    "         label=r'$K_{un}$')\n",
    "plt.plot(r, Kest(data=folkLocsAsArray, radii=r, mode='translation'), color='black',\n",
    "         label=r'$K_{trans}$')\n",
    "plt.plot(r, Kest(data=folkLocsAsArray, radii=r, mode='ohser'), color='blue', ls='-.',\n",
    "         label=r'$K_{ohser}$')\n",
    "plt.plot(r, Kest(data=folkLocsAsArray, radii=r, mode='var-width'), color='green',\n",
    "         label=r'$K_{var-width}$')\n",
    "plt.plot(r, Kest(data=folkLocsAsArray, radii=r, mode='ripley'), color='yellow',\n",
    "         label=r'$K_{ripley}$')\n",
    "\n"
   ]
  }
 ],
 "metadata": {
  "kernelspec": {
   "display_name": "Python 3",
   "language": "python",
   "name": "python3"
  },
  "language_info": {
   "codemirror_mode": {
    "name": "ipython",
    "version": 3
   },
   "file_extension": ".py",
   "mimetype": "text/x-python",
   "name": "python",
   "nbconvert_exporter": "python",
   "pygments_lexer": "ipython3",
   "version": "3.6.4"
  }
 },
 "nbformat": 4,
 "nbformat_minor": 2
}
