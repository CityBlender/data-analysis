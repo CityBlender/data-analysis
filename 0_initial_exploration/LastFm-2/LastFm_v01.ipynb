{
 "cells": [
  {
   "cell_type": "markdown",
   "metadata": {},
   "source": [
    "## LAST FM DATA EXPLORATION\n",
    "With API"
   ]
  },
  {
   "cell_type": "code",
   "execution_count": 1,
   "metadata": {},
   "outputs": [],
   "source": [
    "# Invite the big guys\n",
    "import pandas as pd\n",
    "#import urllib2\n",
    "from bs4 import BeautifulSoup as soup\n",
    "from IPython.display import HTML\n",
    "import requests\n",
    "import json\n",
    "import requests\n",
    "import itertools\n",
    "import time\n",
    "import datetime\n",
    "import numpy as np\n",
    "\n",
    "# Env files\n",
    "import os\n",
    "from dotenv import load_dotenv\n",
    "from pathlib import Path"
   ]
  },
  {
   "cell_type": "code",
   "execution_count": 2,
   "metadata": {},
   "outputs": [
    {
     "data": {
      "text/plain": [
       "True"
      ]
     },
     "execution_count": 2,
     "metadata": {},
     "output_type": "execute_result"
    }
   ],
   "source": [
    "# load .env variables\n",
    "env_path = Path('.') / '.env'\n",
    "load_dotenv(dotenv_path=env_path, verbose=True)"
   ]
  },
  {
   "cell_type": "code",
   "execution_count": 3,
   "metadata": {},
   "outputs": [],
   "source": [
    "# The API Key\n",
    "my_key =  os.getenv('LFM_API_KEY_1')"
   ]
  },
  {
   "cell_type": "markdown",
   "metadata": {},
   "source": [
    "# Single test"
   ]
  },
  {
   "cell_type": "code",
   "execution_count": 5,
   "metadata": {},
   "outputs": [],
   "source": [
    "base_request = 'http://ws.audioscrobbler.com/2.0/?method=artist.getinfo'"
   ]
  },
  {
   "cell_type": "code",
   "execution_count": 6,
   "metadata": {},
   "outputs": [],
   "source": [
    "lastfm_request = base_request + '&mbid=' + '6514cffa-fbe0-4965-ad88-e998ead8a82a' + '&api_key=' + '611ec342a0b68cc4b91848b43b45900f' + '&format=json'\n"
   ]
  },
  {
   "cell_type": "code",
   "execution_count": 7,
   "metadata": {},
   "outputs": [],
   "source": [
    "response = requests.get(lastfm_request)"
   ]
  },
  {
   "cell_type": "code",
   "execution_count": 8,
   "metadata": {},
   "outputs": [
    {
     "data": {
      "text/plain": [
       "<Response [200]>"
      ]
     },
     "execution_count": 8,
     "metadata": {},
     "output_type": "execute_result"
    }
   ],
   "source": [
    "response"
   ]
  },
  {
   "cell_type": "code",
   "execution_count": 9,
   "metadata": {},
   "outputs": [],
   "source": [
    "# A list of artisits ids\n",
    "mbid_list = ['7d0e8067-10b9-4069-95dc-1110a0fbb877',\n",
    "             'bfcc6d75-a6a5-4bc6-8282-47aec8531818',\n",
    "             '534cc4be-3c32-469d-8043-bfbcc6cc08db',\n",
    "             '6514cffa-fbe0-4965-ad88-e998ead8a82a']"
   ]
  },
  {
   "cell_type": "code",
   "execution_count": 13,
   "metadata": {},
   "outputs": [],
   "source": [
    "# The function to retrive the Artists basics\n",
    "## Assumes all Ids have no data so far\n",
    "## Update should not be an issue\n",
    "\n",
    "# This function will fetch data from Last.fm from a list\n",
    "\n",
    "def retrive_fromlist_lastfm(key = my_key, list_of_ids = mbid_list):\n",
    "    # Artist info basics\n",
    "    base_request = 'http://ws.audioscrobbler.com/2.0/?method=artist.getinfo'\n",
    "    \n",
    "    \n",
    "    for i in range(len(list_of_ids)):\n",
    "        print('Id number:' + str(i))\n",
    "        print('musicbrainz ID:' + str((mbid_list[i])))\n",
    "        lastfm_request = base_request + '&mbid=' + mbid_list[i] + '&api_key=' + key + '&format=json'\n",
    "        print('The request')\n",
    "        print(lastfm_request)\n",
    "        response = requests.get(lastfm_request)\n",
    "        print(response)\n",
    "\n",
    "        data = json.loads(response.text)\n",
    "        #print(json.dumps(data, indent=4))\n",
    "\n",
    "        print('------------------------------------------')"
   ]
  },
  {
   "cell_type": "code",
   "execution_count": 15,
   "metadata": {
    "scrolled": true
   },
   "outputs": [
    {
     "name": "stdout",
     "output_type": "stream",
     "text": [
      "Id number:0\n",
      "musicbrainz ID:7d0e8067-10b9-4069-95dc-1110a0fbb877\n",
      "The request\n",
      "http://ws.audioscrobbler.com/2.0/?method=artist.getinfo&mbid=7d0e8067-10b9-4069-95dc-1110a0fbb877&api_key=611ec342a0b68cc4b91848b43b45900f&format=json\n",
      "<Response [200]>\n",
      "------------------------------------------\n",
      "Id number:1\n",
      "musicbrainz ID:bfcc6d75-a6a5-4bc6-8282-47aec8531818\n",
      "The request\n",
      "http://ws.audioscrobbler.com/2.0/?method=artist.getinfo&mbid=bfcc6d75-a6a5-4bc6-8282-47aec8531818&api_key=611ec342a0b68cc4b91848b43b45900f&format=json\n",
      "<Response [200]>\n",
      "------------------------------------------\n",
      "Id number:2\n",
      "musicbrainz ID:534cc4be-3c32-469d-8043-bfbcc6cc08db\n",
      "The request\n",
      "http://ws.audioscrobbler.com/2.0/?method=artist.getinfo&mbid=534cc4be-3c32-469d-8043-bfbcc6cc08db&api_key=611ec342a0b68cc4b91848b43b45900f&format=json\n",
      "<Response [200]>\n",
      "------------------------------------------\n",
      "Id number:3\n",
      "musicbrainz ID:6514cffa-fbe0-4965-ad88-e998ead8a82a\n",
      "The request\n",
      "http://ws.audioscrobbler.com/2.0/?method=artist.getinfo&mbid=6514cffa-fbe0-4965-ad88-e998ead8a82a&api_key=611ec342a0b68cc4b91848b43b45900f&format=json\n",
      "<Response [200]>\n",
      "------------------------------------------\n"
     ]
    }
   ],
   "source": [
    "retrive_fromlist_lastfm()"
   ]
  },
  {
   "cell_type": "code",
   "execution_count": 16,
   "metadata": {},
   "outputs": [],
   "source": [
    "# Same same but different... the loop is outside the function\n",
    "# The function to retrive the Artists basics\n",
    "## Assumes all Ids have no data so far\n",
    "## Update should not be an issue\n",
    "\n",
    "# This function will fetch data from Last.fm from a list\n",
    "id = []\n",
    "def retrive_lastfm_from_ID(key = my_key, single_id = id):\n",
    "    # Artist info basics\n",
    "    base_request = 'http://ws.audioscrobbler.com/2.0/?method=artist.getinfo'\n",
    "    \n",
    "    print('musicbrainz ID:' + str(single_id))\n",
    "    lastfm_request = base_request + '&mbid=' + single_id + '&api_key=' + key + '&format=json'\n",
    "    print('The request')\n",
    "    print(lastfm_request)\n",
    "    response = requests.get(lastfm_request)\n",
    "    print(response)\n",
    "\n",
    "    data = json.loads(response.text)\n",
    "    #print(json.dumps(data, indent=4))\n",
    "\n",
    "    print('------------------------------------------')"
   ]
  },
  {
   "cell_type": "code",
   "execution_count": 17,
   "metadata": {},
   "outputs": [
    {
     "name": "stdout",
     "output_type": "stream",
     "text": [
      "Id number:0\n",
      "musicbrainz ID:7d0e8067-10b9-4069-95dc-1110a0fbb877\n",
      "The request\n",
      "http://ws.audioscrobbler.com/2.0/?method=artist.getinfo&mbid=7d0e8067-10b9-4069-95dc-1110a0fbb877&api_key=611ec342a0b68cc4b91848b43b45900f&format=json\n",
      "<Response [200]>\n",
      "------------------------------------------\n",
      "Id number:1\n",
      "musicbrainz ID:bfcc6d75-a6a5-4bc6-8282-47aec8531818\n",
      "The request\n",
      "http://ws.audioscrobbler.com/2.0/?method=artist.getinfo&mbid=bfcc6d75-a6a5-4bc6-8282-47aec8531818&api_key=611ec342a0b68cc4b91848b43b45900f&format=json\n",
      "<Response [200]>\n",
      "------------------------------------------\n",
      "Id number:2\n",
      "musicbrainz ID:534cc4be-3c32-469d-8043-bfbcc6cc08db\n",
      "The request\n",
      "http://ws.audioscrobbler.com/2.0/?method=artist.getinfo&mbid=534cc4be-3c32-469d-8043-bfbcc6cc08db&api_key=611ec342a0b68cc4b91848b43b45900f&format=json\n",
      "<Response [200]>\n",
      "------------------------------------------\n",
      "Id number:3\n",
      "musicbrainz ID:6514cffa-fbe0-4965-ad88-e998ead8a82a\n",
      "The request\n",
      "http://ws.audioscrobbler.com/2.0/?method=artist.getinfo&mbid=6514cffa-fbe0-4965-ad88-e998ead8a82a&api_key=611ec342a0b68cc4b91848b43b45900f&format=json\n",
      "<Response [200]>\n",
      "------------------------------------------\n"
     ]
    }
   ],
   "source": [
    "for i in range(len(mbid_list)):\n",
    "    print('Id number:' + str(i))\n",
    "    \n",
    "    id = mbid_list[i]\n",
    "    \n",
    "    retrive_lastfm_from_ID(key = my_key, single_id = id)\n",
    "    \n",
    "    "
   ]
  },
  {
   "cell_type": "code",
   "execution_count": null,
   "metadata": {},
   "outputs": [],
   "source": []
  }
 ],
 "metadata": {
  "kernelspec": {
   "display_name": "Python 3",
   "language": "python",
   "name": "python3"
  },
  "language_info": {
   "codemirror_mode": {
    "name": "ipython",
    "version": 3
   },
   "file_extension": ".py",
   "mimetype": "text/x-python",
   "name": "python",
   "nbconvert_exporter": "python",
   "pygments_lexer": "ipython3",
   "version": "3.6.2"
  }
 },
 "nbformat": 4,
 "nbformat_minor": 2
}
