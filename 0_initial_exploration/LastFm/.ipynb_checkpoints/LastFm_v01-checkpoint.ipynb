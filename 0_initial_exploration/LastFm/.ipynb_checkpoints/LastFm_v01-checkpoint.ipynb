{
 "cells": [
  {
   "cell_type": "markdown",
   "metadata": {},
   "source": [
    "## LAST FM DATA EXPLORATION\n",
    "With API"
   ]
  },
  {
   "cell_type": "markdown",
   "metadata": {},
   "source": [
    "**Some credential stuff:**\n",
    "* Application name \tFrinki Blender\n",
    "* API key \t611ec342a0b68cc4b91848b43b45900f\n",
    "* Shared secret \tc1ec721096b0e241d30d9f0c19516c29\n",
    "* Registered to \tUrban_Ant"
   ]
  },
  {
   "cell_type": "code",
   "execution_count": 2,
   "metadata": {},
   "outputs": [],
   "source": [
    "# Invite the big guys\n",
    "import pandas as pd\n",
    "#import urllib2\n",
    "from bs4 import BeautifulSoup as soup\n",
    "from IPython.display import HTML\n",
    "import requests\n",
    "import json\n",
    "import requests\n",
    "import itertools\n",
    "import time\n",
    "import datetime\n",
    "import numpy as np"
   ]
  },
  {
   "cell_type": "code",
   "execution_count": 3,
   "metadata": {},
   "outputs": [],
   "source": [
    "# The API Key\n",
    "key = '611ec342a0b68cc4b91848b43b45900f'"
   ]
  },
  {
   "cell_type": "code",
   "execution_count": null,
   "metadata": {},
   "outputs": [],
   "source": [
    "# Get Artist data\n",
    "## Artist Info\n",
    "http://ws.audioscrobbler.com/2.0/?method=artist.getinfo\n",
    "    &artist=Cher\n",
    "    &api_key=YOUR_API_KEY&format=json\n",
    "    \n",
    "## Get Albums\n",
    "http://ws.audioscrobbler.com/2.0/?method=artist.gettopalbums\n",
    "    &artist=cher\n",
    "    &api_key=YOUR_API_KEY&format=json\n",
    "    \n",
    "## Get Top Tags\n",
    "http://ws.audioscrobbler.com/2.0/?method=artist.gettoptags\n",
    "    &artist=cher\n",
    "    &api_key=YOUR_API_KEY&format=json\n",
    "    \n",
    "## Get Similar\n",
    "http://ws.audioscrobbler.com/2.0/?method=artist.getsimilar\n",
    "    &artist=cher\n",
    "    &api_key=YOUR_API_KEY&format=json\n",
    "\n",
    "## Get Top Tracks\n",
    "http://ws.audioscrobbler.com/2.0/?method=artist.gettoptracks\n",
    "    &artist=cher\n",
    "    &api_key=YOUR_API_KEY&format=json\n",
    "\n",
    "## Get Top Albums\n",
    "http://ws.audioscrobbler.com/2.0/?method=artist.gettopalbums\n",
    "    &artist=cher\n",
    "    &api_key=YOUR_API_KEY&format=json"
   ]
  },
  {
   "cell_type": "code",
   "execution_count": 7,
   "metadata": {},
   "outputs": [],
   "source": [
    "# Harcode for artist code\n",
    "mbid = 'bfcc6d75-a6a5-4bc6-8282-47aec8531818'\n",
    "## Artist Info\n",
    "base_request = 'http://ws.audioscrobbler.com/2.0/?method=artist.getinfo'"
   ]
  },
  {
   "cell_type": "code",
   "execution_count": 10,
   "metadata": {},
   "outputs": [],
   "source": [
    "lastfm_request = base_request + '&mbid=' + mbid + '&api_key=' + key + '&format=json'"
   ]
  },
  {
   "cell_type": "code",
   "execution_count": 15,
   "metadata": {},
   "outputs": [
    {
     "name": "stdout",
     "output_type": "stream",
     "text": [
      "http://ws.audioscrobbler.com/2.0/?method=artist.getinfo&mbid=bfcc6d75-a6a5-4bc6-8282-47aec8531818&api_key=611ec342a0b68cc4b91848b43b45900f&format=json\n"
     ]
    }
   ],
   "source": [
    "print(lastfm_request)"
   ]
  },
  {
   "cell_type": "code",
   "execution_count": 11,
   "metadata": {},
   "outputs": [],
   "source": [
    "response = requests.get(lastfm_request)"
   ]
  },
  {
   "cell_type": "code",
   "execution_count": 12,
   "metadata": {},
   "outputs": [
    {
     "data": {
      "text/plain": [
       "<Response [200]>"
      ]
     },
     "execution_count": 12,
     "metadata": {},
     "output_type": "execute_result"
    }
   ],
   "source": [
    "response"
   ]
  },
  {
   "cell_type": "raw",
   "metadata": {},
   "source": []
  },
  {
   "cell_type": "code",
   "execution_count": 13,
   "metadata": {
    "scrolled": true
   },
   "outputs": [
    {
     "data": {
      "text/plain": [
       "b'{\"artist\":{\"name\":\"Cher\",\"mbid\":\"bfcc6d75-a6a5-4bc6-8282-47aec8531818\",\"url\":\"https://www.last.fm/music/Cher\",\"image\":[{\"#text\":\"https://lastfm-img2.akamaized.net/i/u/34s/b94a02b10c0768911a9bd054363c44f1.png\",\"size\":\"small\"},{\"#text\":\"https://lastfm-img2.akamaized.net/i/u/64s/b94a02b10c0768911a9bd054363c44f1.png\",\"size\":\"medium\"},{\"#text\":\"https://lastfm-img2.akamaized.net/i/u/174s/b94a02b10c0768911a9bd054363c44f1.png\",\"size\":\"large\"},{\"#text\":\"https://lastfm-img2.akamaized.net/i/u/300x300/b94a02b10c0768911a9bd054363c44f1.png\",\"size\":\"extralarge\"},{\"#text\":\"https://lastfm-img2.akamaized.net/i/u/300x300/b94a02b10c0768911a9bd054363c44f1.png\",\"size\":\"mega\"},{\"#text\":\"https://lastfm-img2.akamaized.net/i/u/300x300/b94a02b10c0768911a9bd054363c44f1.png\",\"size\":\"\"}],\"streamable\":\"0\",\"ontour\":\"1\",\"stats\":{\"listeners\":\"1040016\",\"playcount\":\"14030825\"},\"similar\":{\"artist\":[{\"name\":\"Kylie Minogue\",\"url\":\"https://www.last.fm/music/Kylie+Minogue\",\"image\":[{\"#text\":\"https://lastfm-img2.akamaized.net/i/u/34s/30571fef065ef75b3a7cca8afbe47b34.png\",\"size\":\"small\"},{\"#text\":\"https://lastfm-img2.akamaized.net/i/u/64s/30571fef065ef75b3a7cca8afbe47b34.png\",\"size\":\"medium\"},{\"#text\":\"https://lastfm-img2.akamaized.net/i/u/174s/30571fef065ef75b3a7cca8afbe47b34.png\",\"size\":\"large\"},{\"#text\":\"https://lastfm-img2.akamaized.net/i/u/300x300/30571fef065ef75b3a7cca8afbe47b34.png\",\"size\":\"extralarge\"},{\"#text\":\"https://lastfm-img2.akamaized.net/i/u/300x300/30571fef065ef75b3a7cca8afbe47b34.png\",\"size\":\"mega\"},{\"#text\":\"https://lastfm-img2.akamaized.net/i/u/300x300/30571fef065ef75b3a7cca8afbe47b34.png\",\"size\":\"\"}]},{\"name\":\"Madonna\",\"url\":\"https://www.last.fm/music/Madonna\",\"image\":[{\"#text\":\"https://lastfm-img2.akamaized.net/i/u/34s/acce86030412645d944c735693a0edce.png\",\"size\":\"small\"},{\"#text\":\"https://lastfm-img2.akamaized.net/i/u/64s/acce86030412645d944c735693a0edce.png\",\"size\":\"medium\"},{\"#text\":\"https://lastfm-img2.akamaized.net/i/u/174s/acce86030412645d944c735693a0edce.png\",\"size\":\"large\"},{\"#text\":\"https://lastfm-img2.akamaized.net/i/u/300x300/acce86030412645d944c735693a0edce.png\",\"size\":\"extralarge\"},{\"#text\":\"https://lastfm-img2.akamaized.net/i/u/300x300/acce86030412645d944c735693a0edce.png\",\"size\":\"mega\"},{\"#text\":\"https://lastfm-img2.akamaized.net/i/u/300x300/acce86030412645d944c735693a0edce.png\",\"size\":\"\"}]},{\"name\":\"Sonny & Cher\",\"url\":\"https://www.last.fm/music/Sonny+&+Cher\",\"image\":[{\"#text\":\"https://lastfm-img2.akamaized.net/i/u/34s/c8c4811ce8d14ea382fc7980aff59b92.png\",\"size\":\"small\"},{\"#text\":\"https://lastfm-img2.akamaized.net/i/u/64s/c8c4811ce8d14ea382fc7980aff59b92.png\",\"size\":\"medium\"},{\"#text\":\"https://lastfm-img2.akamaized.net/i/u/174s/c8c4811ce8d14ea382fc7980aff59b92.png\",\"size\":\"large\"},{\"#text\":\"https://lastfm-img2.akamaized.net/i/u/300x300/c8c4811ce8d14ea382fc7980aff59b92.png\",\"size\":\"extralarge\"},{\"#text\":\"https://lastfm-img2.akamaized.net/i/u/300x300/c8c4811ce8d14ea382fc7980aff59b92.png\",\"size\":\"mega\"},{\"#text\":\"https://lastfm-img2.akamaized.net/i/u/300x300/c8c4811ce8d14ea382fc7980aff59b92.png\",\"size\":\"\"}]},{\"name\":\"C\\xc3\\xa9line Dion\",\"url\":\"https://www.last.fm/music/C%C3%A9line+Dion\",\"image\":[{\"#text\":\"https://lastfm-img2.akamaized.net/i/u/34s/9b243586b5f24063ac8af0d1adf12edb.png\",\"size\":\"small\"},{\"#text\":\"https://lastfm-img2.akamaized.net/i/u/64s/9b243586b5f24063ac8af0d1adf12edb.png\",\"size\":\"medium\"},{\"#text\":\"https://lastfm-img2.akamaized.net/i/u/174s/9b243586b5f24063ac8af0d1adf12edb.png\",\"size\":\"large\"},{\"#text\":\"https://lastfm-img2.akamaized.net/i/u/300x300/9b243586b5f24063ac8af0d1adf12edb.png\",\"size\":\"extralarge\"},{\"#text\":\"https://lastfm-img2.akamaized.net/i/u/300x300/9b243586b5f24063ac8af0d1adf12edb.png\",\"size\":\"mega\"},{\"#text\":\"https://lastfm-img2.akamaized.net/i/u/300x300/9b243586b5f24063ac8af0d1adf12edb.png\",\"size\":\"\"}]},{\"name\":\"Cyndi Lauper\",\"url\":\"https://www.last.fm/music/Cyndi+Lauper\",\"image\":[{\"#text\":\"https://lastfm-img2.akamaized.net/i/u/34s/4c964cad079dafe2dcec4fbfa2d951fa.png\",\"size\":\"small\"},{\"#text\":\"https://lastfm-img2.akamaized.net/i/u/64s/4c964cad079dafe2dcec4fbfa2d951fa.png\",\"size\":\"medium\"},{\"#text\":\"https://lastfm-img2.akamaized.net/i/u/174s/4c964cad079dafe2dcec4fbfa2d951fa.png\",\"size\":\"large\"},{\"#text\":\"https://lastfm-img2.akamaized.net/i/u/300x300/4c964cad079dafe2dcec4fbfa2d951fa.png\",\"size\":\"extralarge\"},{\"#text\":\"https://lastfm-img2.akamaized.net/i/u/300x300/4c964cad079dafe2dcec4fbfa2d951fa.png\",\"size\":\"mega\"},{\"#text\":\"https://lastfm-img2.akamaized.net/i/u/300x300/4c964cad079dafe2dcec4fbfa2d951fa.png\",\"size\":\"\"}]}]},\"tags\":{\"tag\":[{\"name\":\"pop\",\"url\":\"https://www.last.fm/tag/pop\"},{\"name\":\"female vocalists\",\"url\":\"https://www.last.fm/tag/female+vocalists\"},{\"name\":\"80s\",\"url\":\"https://www.last.fm/tag/80s\"},{\"name\":\"dance\",\"url\":\"https://www.last.fm/tag/dance\"},{\"name\":\"rock\",\"url\":\"https://www.last.fm/tag/rock\"}]},\"bio\":{\"links\":{\"link\":{\"#text\":\"\",\"rel\":\"original\",\"href\":\"https://last.fm/music/Cher/+wiki\"}},\"published\":\"17 Feb 2006, 22:09\",\"summary\":\"Cher (born Cherilyn Sarkisian; May 20, 1946) is an Oscar- and Grammy-winning American singer and actress. A major figure for over five decades in the world of popular culture, she is often referred to as the Goddess of Pop for having first brought the sense of female autonomy and self-actualization into the entertainment industry. \\\\n\\\\nShe is known for her distinctive contralto and for having worked extensively across media, as well as for continuously reinventing both her music and image, the latter of which has been known to induce controversy. <a href=\\\\\"https://www.last.fm/music/Cher\\\\\">Read more on Last.fm</a>\",\"content\":\"Cher (born Cherilyn Sarkisian; May 20, 1946) is an Oscar- and Grammy-winning American singer and actress. A major figure for over five decades in the world of popular culture, she is often referred to as the Goddess of Pop for having first brought the sense of female autonomy and self-actualization into the entertainment industry. \\\\n\\\\nShe is known for her distinctive contralto and for having worked extensively across media, as well as for continuously reinventing both her music and image, the latter of which has been known to induce controversy.\\\\n\\\\nCher was born Cherilyn Sarkisian in El Centro, California, on May 20, 1946. She is of Armenian-American, Irish, English, German, and Cherokee ancestry. Cher first caught the eye and ear of the public in 1965 as one-half of the pop rock duo Sonny & Cher, which popularized a peculiar smooth sound that competed successfully with the predominant British Invasion and Motown Sound of the era. After a period in which the duo became obsolete, she re-emerged in the 1970\\'s as a television personality with her shows The Sonny & Cher Comedy Hour and Cher, which attained great popularity.\\\\n\\\\nAt the same time, she established herself as a solo artist with hits such as \\\\\"Bang Bang (My Baby Shot Me Down)\\\\\", \\\\\"Gypsys, Tramps & Thieves\\\\\", \\\\\"Half-Breed\\\\\", and \\\\\"Dark Lady\\\\\", which dealt with taboo subjects in mainstream popular music. Throughout, she cemented her status as a fashion trendsetter with her daring outfits, and was noted as being the first woman to expose her navel on television. Cher\\'s impact at that time, as described by Phill Marder from Goldmine magazine, \\\\\"led the way to advance feminine rebellion in the rock world,\\\\\" as she was \\\\\"the prototype of the female rock star, setting the standard for appearance and [...] attitude[.]\\\\\"\\\\n\\\\nIn 1983 Cher made a critically acclaimed appearance on Broadway and starred in the film Silkwood, which earned her a nomination for the Academy Award for Best Supporting Actress. In the following years, she became an acclaimed film actress by starring in a string of hit films, including Mask, The Witches of Eastwick, and Moonstruck, for which she won the Academy Award for Best Actress in 1988. At the same time, she established herself as a \\\\\"serious rock and roller\\\\\" by releasing a series of rock albums and hit singles such as \\\\\"I Found Someone\\\\\", \\\\\"If I Could Turn Back Time\\\\\", and \\\\\"The Shoop Shoop Song (It\\'s in His Kiss)\\\\\".\\\\n\\\\nShe made her directing debut with the film If These Walls Could Talk in 1996 and released the biggest-selling single of her career thus far, \\\\\"Believe\\\\\", which revolutionized the recording industry because of its pioneer use of Auto-Tune (also known as the \\\\\"Cher effect\\\\\"). Throughout the 2000\\'s she embarked on a series of concert tours that were among the highest-grossing of all-time.\\\\n\\\\nCher has won an Academy Award, a Grammy Award, an Emmy Award, three Golden Globe Awards, and the Best Actress Award at the Cannes Film Festival for her work in film, music and television. She is the only person  to receive all of these awards. She is also the only artist to have notched a number-one single on a Billboard chart in each of the past six decades. Recognized as one of the best-selling music artists of all time, she has sold more than 100 million solo albums worldwide and 40 million records as part of Sonny & Cher.\\\\n\\\\nOfficial website: http://www.cher.com/ <a href=\\\\\"https://www.last.fm/music/Cher\\\\\">Read more on Last.fm</a>. User-contributed text is available under the Creative Commons By-SA License; additional terms may apply.\"}}}'"
      ]
     },
     "execution_count": 13,
     "metadata": {},
     "output_type": "execute_result"
    }
   ],
   "source": [
    "response.content"
   ]
  },
  {
   "cell_type": "code",
   "execution_count": 14,
   "metadata": {},
   "outputs": [
    {
     "name": "stdout",
     "output_type": "stream",
     "text": [
      "{\n",
      "    \"artist\": {\n",
      "        \"name\": \"Cher\",\n",
      "        \"mbid\": \"bfcc6d75-a6a5-4bc6-8282-47aec8531818\",\n",
      "        \"url\": \"https://www.last.fm/music/Cher\",\n",
      "        \"image\": [\n",
      "            {\n",
      "                \"#text\": \"https://lastfm-img2.akamaized.net/i/u/34s/b94a02b10c0768911a9bd054363c44f1.png\",\n",
      "                \"size\": \"small\"\n",
      "            },\n",
      "            {\n",
      "                \"#text\": \"https://lastfm-img2.akamaized.net/i/u/64s/b94a02b10c0768911a9bd054363c44f1.png\",\n",
      "                \"size\": \"medium\"\n",
      "            },\n",
      "            {\n",
      "                \"#text\": \"https://lastfm-img2.akamaized.net/i/u/174s/b94a02b10c0768911a9bd054363c44f1.png\",\n",
      "                \"size\": \"large\"\n",
      "            },\n",
      "            {\n",
      "                \"#text\": \"https://lastfm-img2.akamaized.net/i/u/300x300/b94a02b10c0768911a9bd054363c44f1.png\",\n",
      "                \"size\": \"extralarge\"\n",
      "            },\n",
      "            {\n",
      "                \"#text\": \"https://lastfm-img2.akamaized.net/i/u/300x300/b94a02b10c0768911a9bd054363c44f1.png\",\n",
      "                \"size\": \"mega\"\n",
      "            },\n",
      "            {\n",
      "                \"#text\": \"https://lastfm-img2.akamaized.net/i/u/300x300/b94a02b10c0768911a9bd054363c44f1.png\",\n",
      "                \"size\": \"\"\n",
      "            }\n",
      "        ],\n",
      "        \"streamable\": \"0\",\n",
      "        \"ontour\": \"1\",\n",
      "        \"stats\": {\n",
      "            \"listeners\": \"1040016\",\n",
      "            \"playcount\": \"14030825\"\n",
      "        },\n",
      "        \"similar\": {\n",
      "            \"artist\": [\n",
      "                {\n",
      "                    \"name\": \"Kylie Minogue\",\n",
      "                    \"url\": \"https://www.last.fm/music/Kylie+Minogue\",\n",
      "                    \"image\": [\n",
      "                        {\n",
      "                            \"#text\": \"https://lastfm-img2.akamaized.net/i/u/34s/30571fef065ef75b3a7cca8afbe47b34.png\",\n",
      "                            \"size\": \"small\"\n",
      "                        },\n",
      "                        {\n",
      "                            \"#text\": \"https://lastfm-img2.akamaized.net/i/u/64s/30571fef065ef75b3a7cca8afbe47b34.png\",\n",
      "                            \"size\": \"medium\"\n",
      "                        },\n",
      "                        {\n",
      "                            \"#text\": \"https://lastfm-img2.akamaized.net/i/u/174s/30571fef065ef75b3a7cca8afbe47b34.png\",\n",
      "                            \"size\": \"large\"\n",
      "                        },\n",
      "                        {\n",
      "                            \"#text\": \"https://lastfm-img2.akamaized.net/i/u/300x300/30571fef065ef75b3a7cca8afbe47b34.png\",\n",
      "                            \"size\": \"extralarge\"\n",
      "                        },\n",
      "                        {\n",
      "                            \"#text\": \"https://lastfm-img2.akamaized.net/i/u/300x300/30571fef065ef75b3a7cca8afbe47b34.png\",\n",
      "                            \"size\": \"mega\"\n",
      "                        },\n",
      "                        {\n",
      "                            \"#text\": \"https://lastfm-img2.akamaized.net/i/u/300x300/30571fef065ef75b3a7cca8afbe47b34.png\",\n",
      "                            \"size\": \"\"\n",
      "                        }\n",
      "                    ]\n",
      "                },\n",
      "                {\n",
      "                    \"name\": \"Madonna\",\n",
      "                    \"url\": \"https://www.last.fm/music/Madonna\",\n",
      "                    \"image\": [\n",
      "                        {\n",
      "                            \"#text\": \"https://lastfm-img2.akamaized.net/i/u/34s/acce86030412645d944c735693a0edce.png\",\n",
      "                            \"size\": \"small\"\n",
      "                        },\n",
      "                        {\n",
      "                            \"#text\": \"https://lastfm-img2.akamaized.net/i/u/64s/acce86030412645d944c735693a0edce.png\",\n",
      "                            \"size\": \"medium\"\n",
      "                        },\n",
      "                        {\n",
      "                            \"#text\": \"https://lastfm-img2.akamaized.net/i/u/174s/acce86030412645d944c735693a0edce.png\",\n",
      "                            \"size\": \"large\"\n",
      "                        },\n",
      "                        {\n",
      "                            \"#text\": \"https://lastfm-img2.akamaized.net/i/u/300x300/acce86030412645d944c735693a0edce.png\",\n",
      "                            \"size\": \"extralarge\"\n",
      "                        },\n",
      "                        {\n",
      "                            \"#text\": \"https://lastfm-img2.akamaized.net/i/u/300x300/acce86030412645d944c735693a0edce.png\",\n",
      "                            \"size\": \"mega\"\n",
      "                        },\n",
      "                        {\n",
      "                            \"#text\": \"https://lastfm-img2.akamaized.net/i/u/300x300/acce86030412645d944c735693a0edce.png\",\n",
      "                            \"size\": \"\"\n",
      "                        }\n",
      "                    ]\n",
      "                },\n",
      "                {\n",
      "                    \"name\": \"Sonny & Cher\",\n",
      "                    \"url\": \"https://www.last.fm/music/Sonny+&+Cher\",\n",
      "                    \"image\": [\n",
      "                        {\n",
      "                            \"#text\": \"https://lastfm-img2.akamaized.net/i/u/34s/c8c4811ce8d14ea382fc7980aff59b92.png\",\n",
      "                            \"size\": \"small\"\n",
      "                        },\n",
      "                        {\n",
      "                            \"#text\": \"https://lastfm-img2.akamaized.net/i/u/64s/c8c4811ce8d14ea382fc7980aff59b92.png\",\n",
      "                            \"size\": \"medium\"\n",
      "                        },\n",
      "                        {\n",
      "                            \"#text\": \"https://lastfm-img2.akamaized.net/i/u/174s/c8c4811ce8d14ea382fc7980aff59b92.png\",\n",
      "                            \"size\": \"large\"\n",
      "                        },\n",
      "                        {\n",
      "                            \"#text\": \"https://lastfm-img2.akamaized.net/i/u/300x300/c8c4811ce8d14ea382fc7980aff59b92.png\",\n",
      "                            \"size\": \"extralarge\"\n",
      "                        },\n",
      "                        {\n",
      "                            \"#text\": \"https://lastfm-img2.akamaized.net/i/u/300x300/c8c4811ce8d14ea382fc7980aff59b92.png\",\n",
      "                            \"size\": \"mega\"\n",
      "                        },\n",
      "                        {\n",
      "                            \"#text\": \"https://lastfm-img2.akamaized.net/i/u/300x300/c8c4811ce8d14ea382fc7980aff59b92.png\",\n",
      "                            \"size\": \"\"\n",
      "                        }\n",
      "                    ]\n",
      "                },\n",
      "                {\n",
      "                    \"name\": \"C\\u00e9line Dion\",\n",
      "                    \"url\": \"https://www.last.fm/music/C%C3%A9line+Dion\",\n",
      "                    \"image\": [\n",
      "                        {\n",
      "                            \"#text\": \"https://lastfm-img2.akamaized.net/i/u/34s/9b243586b5f24063ac8af0d1adf12edb.png\",\n",
      "                            \"size\": \"small\"\n",
      "                        },\n",
      "                        {\n",
      "                            \"#text\": \"https://lastfm-img2.akamaized.net/i/u/64s/9b243586b5f24063ac8af0d1adf12edb.png\",\n",
      "                            \"size\": \"medium\"\n",
      "                        },\n",
      "                        {\n",
      "                            \"#text\": \"https://lastfm-img2.akamaized.net/i/u/174s/9b243586b5f24063ac8af0d1adf12edb.png\",\n",
      "                            \"size\": \"large\"\n",
      "                        },\n",
      "                        {\n",
      "                            \"#text\": \"https://lastfm-img2.akamaized.net/i/u/300x300/9b243586b5f24063ac8af0d1adf12edb.png\",\n",
      "                            \"size\": \"extralarge\"\n",
      "                        },\n",
      "                        {\n",
      "                            \"#text\": \"https://lastfm-img2.akamaized.net/i/u/300x300/9b243586b5f24063ac8af0d1adf12edb.png\",\n",
      "                            \"size\": \"mega\"\n",
      "                        },\n",
      "                        {\n",
      "                            \"#text\": \"https://lastfm-img2.akamaized.net/i/u/300x300/9b243586b5f24063ac8af0d1adf12edb.png\",\n",
      "                            \"size\": \"\"\n",
      "                        }\n",
      "                    ]\n",
      "                },\n",
      "                {\n",
      "                    \"name\": \"Cyndi Lauper\",\n",
      "                    \"url\": \"https://www.last.fm/music/Cyndi+Lauper\",\n",
      "                    \"image\": [\n",
      "                        {\n",
      "                            \"#text\": \"https://lastfm-img2.akamaized.net/i/u/34s/4c964cad079dafe2dcec4fbfa2d951fa.png\",\n",
      "                            \"size\": \"small\"\n",
      "                        },\n",
      "                        {\n",
      "                            \"#text\": \"https://lastfm-img2.akamaized.net/i/u/64s/4c964cad079dafe2dcec4fbfa2d951fa.png\",\n",
      "                            \"size\": \"medium\"\n",
      "                        },\n",
      "                        {\n",
      "                            \"#text\": \"https://lastfm-img2.akamaized.net/i/u/174s/4c964cad079dafe2dcec4fbfa2d951fa.png\",\n",
      "                            \"size\": \"large\"\n",
      "                        },\n",
      "                        {\n",
      "                            \"#text\": \"https://lastfm-img2.akamaized.net/i/u/300x300/4c964cad079dafe2dcec4fbfa2d951fa.png\",\n",
      "                            \"size\": \"extralarge\"\n",
      "                        },\n",
      "                        {\n",
      "                            \"#text\": \"https://lastfm-img2.akamaized.net/i/u/300x300/4c964cad079dafe2dcec4fbfa2d951fa.png\",\n",
      "                            \"size\": \"mega\"\n",
      "                        },\n",
      "                        {\n",
      "                            \"#text\": \"https://lastfm-img2.akamaized.net/i/u/300x300/4c964cad079dafe2dcec4fbfa2d951fa.png\",\n",
      "                            \"size\": \"\"\n",
      "                        }\n",
      "                    ]\n",
      "                }\n",
      "            ]\n",
      "        },\n",
      "        \"tags\": {\n",
      "            \"tag\": [\n",
      "                {\n",
      "                    \"name\": \"pop\",\n",
      "                    \"url\": \"https://www.last.fm/tag/pop\"\n",
      "                },\n",
      "                {\n",
      "                    \"name\": \"female vocalists\",\n",
      "                    \"url\": \"https://www.last.fm/tag/female+vocalists\"\n",
      "                },\n",
      "                {\n",
      "                    \"name\": \"80s\",\n",
      "                    \"url\": \"https://www.last.fm/tag/80s\"\n",
      "                },\n",
      "                {\n",
      "                    \"name\": \"dance\",\n",
      "                    \"url\": \"https://www.last.fm/tag/dance\"\n",
      "                },\n",
      "                {\n",
      "                    \"name\": \"rock\",\n",
      "                    \"url\": \"https://www.last.fm/tag/rock\"\n",
      "                }\n",
      "            ]\n",
      "        },\n",
      "        \"bio\": {\n",
      "            \"links\": {\n",
      "                \"link\": {\n",
      "                    \"#text\": \"\",\n",
      "                    \"rel\": \"original\",\n",
      "                    \"href\": \"https://last.fm/music/Cher/+wiki\"\n",
      "                }\n",
      "            },\n",
      "            \"published\": \"17 Feb 2006, 22:09\",\n",
      "            \"summary\": \"Cher (born Cherilyn Sarkisian; May 20, 1946) is an Oscar- and Grammy-winning American singer and actress. A major figure for over five decades in the world of popular culture, she is often referred to as the Goddess of Pop for having first brought the sense of female autonomy and self-actualization into the entertainment industry. \\n\\nShe is known for her distinctive contralto and for having worked extensively across media, as well as for continuously reinventing both her music and image, the latter of which has been known to induce controversy. <a href=\\\"https://www.last.fm/music/Cher\\\">Read more on Last.fm</a>\",\n",
      "            \"content\": \"Cher (born Cherilyn Sarkisian; May 20, 1946) is an Oscar- and Grammy-winning American singer and actress. A major figure for over five decades in the world of popular culture, she is often referred to as the Goddess of Pop for having first brought the sense of female autonomy and self-actualization into the entertainment industry. \\n\\nShe is known for her distinctive contralto and for having worked extensively across media, as well as for continuously reinventing both her music and image, the latter of which has been known to induce controversy.\\n\\nCher was born Cherilyn Sarkisian in El Centro, California, on May 20, 1946. She is of Armenian-American, Irish, English, German, and Cherokee ancestry. Cher first caught the eye and ear of the public in 1965 as one-half of the pop rock duo Sonny & Cher, which popularized a peculiar smooth sound that competed successfully with the predominant British Invasion and Motown Sound of the era. After a period in which the duo became obsolete, she re-emerged in the 1970's as a television personality with her shows The Sonny & Cher Comedy Hour and Cher, which attained great popularity.\\n\\nAt the same time, she established herself as a solo artist with hits such as \\\"Bang Bang (My Baby Shot Me Down)\\\", \\\"Gypsys, Tramps & Thieves\\\", \\\"Half-Breed\\\", and \\\"Dark Lady\\\", which dealt with taboo subjects in mainstream popular music. Throughout, she cemented her status as a fashion trendsetter with her daring outfits, and was noted as being the first woman to expose her navel on television. Cher's impact at that time, as described by Phill Marder from Goldmine magazine, \\\"led the way to advance feminine rebellion in the rock world,\\\" as she was \\\"the prototype of the female rock star, setting the standard for appearance and [...] attitude[.]\\\"\\n\\nIn 1983 Cher made a critically acclaimed appearance on Broadway and starred in the film Silkwood, which earned her a nomination for the Academy Award for Best Supporting Actress. In the following years, she became an acclaimed film actress by starring in a string of hit films, including Mask, The Witches of Eastwick, and Moonstruck, for which she won the Academy Award for Best Actress in 1988. At the same time, she established herself as a \\\"serious rock and roller\\\" by releasing a series of rock albums and hit singles such as \\\"I Found Someone\\\", \\\"If I Could Turn Back Time\\\", and \\\"The Shoop Shoop Song (It's in His Kiss)\\\".\\n\\nShe made her directing debut with the film If These Walls Could Talk in 1996 and released the biggest-selling single of her career thus far, \\\"Believe\\\", which revolutionized the recording industry because of its pioneer use of Auto-Tune (also known as the \\\"Cher effect\\\"). Throughout the 2000's she embarked on a series of concert tours that were among the highest-grossing of all-time.\\n\\nCher has won an Academy Award, a Grammy Award, an Emmy Award, three Golden Globe Awards, and the Best Actress Award at the Cannes Film Festival for her work in film, music and television. She is the only person  to receive all of these awards. She is also the only artist to have notched a number-one single on a Billboard chart in each of the past six decades. Recognized as one of the best-selling music artists of all time, she has sold more than 100 million solo albums worldwide and 40 million records as part of Sonny & Cher.\\n\\nOfficial website: http://www.cher.com/ <a href=\\\"https://www.last.fm/music/Cher\\\">Read more on Last.fm</a>. User-contributed text is available under the Creative Commons By-SA License; additional terms may apply.\"\n",
      "        }\n",
      "    }\n",
      "}\n"
     ]
    }
   ],
   "source": [
    "data = json.loads(response.text)\n",
    "print(json.dumps(data, indent=4))"
   ]
  },
  {
   "cell_type": "code",
   "execution_count": 16,
   "metadata": {},
   "outputs": [],
   "source": [
    "mbid_list = ['7d0e8067-10b9-4069-95dc-1110a0fbb877',\n",
    "             'bfcc6d75-a6a5-4bc6-8282-47aec8531818',\n",
    "             '534cc4be-3c32-469d-8043-bfbcc6cc08db',\n",
    "             '6514cffa-fbe0-4965-ad88-e998ead8a82a']         \n",
    "             "
   ]
  },
  {
   "cell_type": "code",
   "execution_count": 17,
   "metadata": {},
   "outputs": [
    {
     "data": {
      "text/plain": [
       "['7d0e8067-10b9-4069-95dc-1110a0fbb877',\n",
       " 'bfcc6d75-a6a5-4bc6-8282-47aec8531818',\n",
       " '534cc4be-3c32-469d-8043-bfbcc6cc08db',\n",
       " '6514cffa-fbe0-4965-ad88-e998ead8a82a']"
      ]
     },
     "execution_count": 17,
     "metadata": {},
     "output_type": "execute_result"
    }
   ],
   "source": [
    "mbid_list"
   ]
  },
  {
   "cell_type": "code",
   "execution_count": null,
   "metadata": {},
   "outputs": [],
   "source": []
  }
 ],
 "metadata": {
  "kernelspec": {
   "display_name": "Python 3",
   "language": "python",
   "name": "python3"
  },
  "language_info": {
   "codemirror_mode": {
    "name": "ipython",
    "version": 3
   },
   "file_extension": ".py",
   "mimetype": "text/x-python",
   "name": "python",
   "nbconvert_exporter": "python",
   "pygments_lexer": "ipython3",
   "version": "3.6.2"
  }
 },
 "nbformat": 4,
 "nbformat_minor": 2
}
